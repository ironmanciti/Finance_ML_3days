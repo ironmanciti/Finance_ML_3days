{
 "cells": [
  {
   "cell_type": "markdown",
   "metadata": {
    "colab_type": "text",
    "id": "_OtNKjlXS5YR"
   },
   "source": [
    "# CAPM - Capital Asset Pricing Model \n",
    "\n",
    "## simple linear regression으로 CAPM을 Modeling\n",
    "- market portfolio 는 S&P500 사용\n",
    "- Apple 단일 주식 portfolio 사용\n",
    "\n",
    "### CAPM 공식 이용\n",
    "### $ r_i = r_f + \\beta * (r_m - r_f )$"
   ]
  },
  {
   "cell_type": "code",
   "execution_count": 25,
   "metadata": {
    "colab": {
     "base_uri": "https://localhost:8080/",
     "height": 87
    },
    "colab_type": "code",
    "executionInfo": {
     "elapsed": 498,
     "status": "ok",
     "timestamp": 1598746093978,
     "user": {
      "displayName": "Stemplicity",
      "photoUrl": "https://lh3.googleusercontent.com/a-/AOh14Gj2vCFt-bD5mPBhUWX0QA6xiBgoXQXtwUm2jgjaCg=s64",
      "userId": "10668071569687886186"
     },
     "user_tz": 240
    },
    "id": "TMxtZdEjRjoc",
    "outputId": "d94b2db6-ceeb-461d-c6e8-e9068cb5bd94"
   },
   "outputs": [],
   "source": [
    "import pandas as pd\n",
    "import seaborn as sns\n",
    "import plotly.express as px\n",
    "from copy import copy\n",
    "from scipy import stats\n",
    "import matplotlib.pyplot as plt\n",
    "import numpy as np\n",
    "import warnings\n",
    "warnings.filterwarnings('ignore')"
   ]
  },
  {
   "cell_type": "code",
   "execution_count": 5,
   "metadata": {
    "colab": {
     "base_uri": "https://localhost:8080/",
     "height": 415
    },
    "colab_type": "code",
    "executionInfo": {
     "elapsed": 2366,
     "status": "ok",
     "timestamp": 1598745719012,
     "user": {
      "displayName": "Stemplicity",
      "photoUrl": "https://lh3.googleusercontent.com/a-/AOh14Gj2vCFt-bD5mPBhUWX0QA6xiBgoXQXtwUm2jgjaCg=s64",
      "userId": "10668071569687886186"
     },
     "user_tz": 240
    },
    "id": "rjnkqEJzRjtC",
    "outputId": "5e1ba6b2-700f-4d71-f04d-db5bbc05d8d1"
   },
   "outputs": [
    {
     "data": {
      "text/html": [
       "<div>\n",
       "<style scoped>\n",
       "    .dataframe tbody tr th:only-of-type {\n",
       "        vertical-align: middle;\n",
       "    }\n",
       "\n",
       "    .dataframe tbody tr th {\n",
       "        vertical-align: top;\n",
       "    }\n",
       "\n",
       "    .dataframe thead th {\n",
       "        text-align: right;\n",
       "    }\n",
       "</style>\n",
       "<table border=\"1\" class=\"dataframe\">\n",
       "  <thead>\n",
       "    <tr style=\"text-align: right;\">\n",
       "      <th></th>\n",
       "      <th>Date</th>\n",
       "      <th>AAPL</th>\n",
       "      <th>BA</th>\n",
       "      <th>T</th>\n",
       "      <th>MGM</th>\n",
       "      <th>AMZN</th>\n",
       "      <th>IBM</th>\n",
       "      <th>TSLA</th>\n",
       "      <th>GOOG</th>\n",
       "      <th>sp500</th>\n",
       "    </tr>\n",
       "  </thead>\n",
       "  <tbody>\n",
       "    <tr>\n",
       "      <th>0</th>\n",
       "      <td>2012-01-12</td>\n",
       "      <td>60.198570</td>\n",
       "      <td>75.510002</td>\n",
       "      <td>30.120001</td>\n",
       "      <td>12.13</td>\n",
       "      <td>175.929993</td>\n",
       "      <td>180.550003</td>\n",
       "      <td>28.250000</td>\n",
       "      <td>313.644379</td>\n",
       "      <td>1295.500000</td>\n",
       "    </tr>\n",
       "    <tr>\n",
       "      <th>1</th>\n",
       "      <td>2012-01-13</td>\n",
       "      <td>59.972858</td>\n",
       "      <td>74.599998</td>\n",
       "      <td>30.070000</td>\n",
       "      <td>12.35</td>\n",
       "      <td>178.419998</td>\n",
       "      <td>179.160004</td>\n",
       "      <td>22.790001</td>\n",
       "      <td>311.328064</td>\n",
       "      <td>1289.089966</td>\n",
       "    </tr>\n",
       "    <tr>\n",
       "      <th>2</th>\n",
       "      <td>2012-01-17</td>\n",
       "      <td>60.671429</td>\n",
       "      <td>75.239998</td>\n",
       "      <td>30.250000</td>\n",
       "      <td>12.25</td>\n",
       "      <td>181.660004</td>\n",
       "      <td>180.000000</td>\n",
       "      <td>26.600000</td>\n",
       "      <td>313.116364</td>\n",
       "      <td>1293.670044</td>\n",
       "    </tr>\n",
       "    <tr>\n",
       "      <th>3</th>\n",
       "      <td>2012-01-18</td>\n",
       "      <td>61.301430</td>\n",
       "      <td>75.059998</td>\n",
       "      <td>30.330000</td>\n",
       "      <td>12.73</td>\n",
       "      <td>189.440002</td>\n",
       "      <td>181.070007</td>\n",
       "      <td>26.809999</td>\n",
       "      <td>315.273285</td>\n",
       "      <td>1308.040039</td>\n",
       "    </tr>\n",
       "    <tr>\n",
       "      <th>4</th>\n",
       "      <td>2012-01-19</td>\n",
       "      <td>61.107143</td>\n",
       "      <td>75.559998</td>\n",
       "      <td>30.420000</td>\n",
       "      <td>12.80</td>\n",
       "      <td>194.449997</td>\n",
       "      <td>180.520004</td>\n",
       "      <td>26.760000</td>\n",
       "      <td>318.590851</td>\n",
       "      <td>1314.500000</td>\n",
       "    </tr>\n",
       "  </tbody>\n",
       "</table>\n",
       "</div>"
      ],
      "text/plain": [
       "         Date       AAPL         BA          T    MGM        AMZN         IBM  \\\n",
       "0  2012-01-12  60.198570  75.510002  30.120001  12.13  175.929993  180.550003   \n",
       "1  2012-01-13  59.972858  74.599998  30.070000  12.35  178.419998  179.160004   \n",
       "2  2012-01-17  60.671429  75.239998  30.250000  12.25  181.660004  180.000000   \n",
       "3  2012-01-18  61.301430  75.059998  30.330000  12.73  189.440002  181.070007   \n",
       "4  2012-01-19  61.107143  75.559998  30.420000  12.80  194.449997  180.520004   \n",
       "\n",
       "        TSLA        GOOG        sp500  \n",
       "0  28.250000  313.644379  1295.500000  \n",
       "1  22.790001  311.328064  1289.089966  \n",
       "2  26.600000  313.116364  1293.670044  \n",
       "3  26.809999  315.273285  1308.040039  \n",
       "4  26.760000  318.590851  1314.500000  "
      ]
     },
     "execution_count": 5,
     "metadata": {},
     "output_type": "execute_result"
    }
   ],
   "source": [
    "stocks_df = pd.read_csv('data/stock.csv')\n",
    "stocks_df.head()"
   ]
  },
  {
   "cell_type": "markdown",
   "metadata": {},
   "source": [
    "날짜를 기준으로 데이터를 정렬하고 날짜를 인덱스로 설정"
   ]
  },
  {
   "cell_type": "code",
   "execution_count": 6,
   "metadata": {
    "colab": {
     "base_uri": "https://localhost:8080/",
     "height": 415
    },
    "colab_type": "code",
    "executionInfo": {
     "elapsed": 2358,
     "status": "ok",
     "timestamp": 1598745719014,
     "user": {
      "displayName": "Stemplicity",
      "photoUrl": "https://lh3.googleusercontent.com/a-/AOh14Gj2vCFt-bD5mPBhUWX0QA6xiBgoXQXtwUm2jgjaCg=s64",
      "userId": "10668071569687886186"
     },
     "user_tz": 240
    },
    "id": "O-iq0rQVRysa",
    "outputId": "a640c031-0201-44bf-98bf-387a53420e1f"
   },
   "outputs": [
    {
     "data": {
      "text/html": [
       "<div>\n",
       "<style scoped>\n",
       "    .dataframe tbody tr th:only-of-type {\n",
       "        vertical-align: middle;\n",
       "    }\n",
       "\n",
       "    .dataframe tbody tr th {\n",
       "        vertical-align: top;\n",
       "    }\n",
       "\n",
       "    .dataframe thead th {\n",
       "        text-align: right;\n",
       "    }\n",
       "</style>\n",
       "<table border=\"1\" class=\"dataframe\">\n",
       "  <thead>\n",
       "    <tr style=\"text-align: right;\">\n",
       "      <th></th>\n",
       "      <th>AAPL</th>\n",
       "      <th>BA</th>\n",
       "      <th>T</th>\n",
       "      <th>MGM</th>\n",
       "      <th>AMZN</th>\n",
       "      <th>IBM</th>\n",
       "      <th>TSLA</th>\n",
       "      <th>GOOG</th>\n",
       "      <th>sp500</th>\n",
       "    </tr>\n",
       "    <tr>\n",
       "      <th>Date</th>\n",
       "      <th></th>\n",
       "      <th></th>\n",
       "      <th></th>\n",
       "      <th></th>\n",
       "      <th></th>\n",
       "      <th></th>\n",
       "      <th></th>\n",
       "      <th></th>\n",
       "      <th></th>\n",
       "    </tr>\n",
       "  </thead>\n",
       "  <tbody>\n",
       "    <tr>\n",
       "      <th>2012-01-12</th>\n",
       "      <td>60.198570</td>\n",
       "      <td>75.510002</td>\n",
       "      <td>30.120001</td>\n",
       "      <td>12.13</td>\n",
       "      <td>175.929993</td>\n",
       "      <td>180.550003</td>\n",
       "      <td>28.250000</td>\n",
       "      <td>313.644379</td>\n",
       "      <td>1295.500000</td>\n",
       "    </tr>\n",
       "    <tr>\n",
       "      <th>2012-01-13</th>\n",
       "      <td>59.972858</td>\n",
       "      <td>74.599998</td>\n",
       "      <td>30.070000</td>\n",
       "      <td>12.35</td>\n",
       "      <td>178.419998</td>\n",
       "      <td>179.160004</td>\n",
       "      <td>22.790001</td>\n",
       "      <td>311.328064</td>\n",
       "      <td>1289.089966</td>\n",
       "    </tr>\n",
       "    <tr>\n",
       "      <th>2012-01-17</th>\n",
       "      <td>60.671429</td>\n",
       "      <td>75.239998</td>\n",
       "      <td>30.250000</td>\n",
       "      <td>12.25</td>\n",
       "      <td>181.660004</td>\n",
       "      <td>180.000000</td>\n",
       "      <td>26.600000</td>\n",
       "      <td>313.116364</td>\n",
       "      <td>1293.670044</td>\n",
       "    </tr>\n",
       "    <tr>\n",
       "      <th>2012-01-18</th>\n",
       "      <td>61.301430</td>\n",
       "      <td>75.059998</td>\n",
       "      <td>30.330000</td>\n",
       "      <td>12.73</td>\n",
       "      <td>189.440002</td>\n",
       "      <td>181.070007</td>\n",
       "      <td>26.809999</td>\n",
       "      <td>315.273285</td>\n",
       "      <td>1308.040039</td>\n",
       "    </tr>\n",
       "    <tr>\n",
       "      <th>2012-01-19</th>\n",
       "      <td>61.107143</td>\n",
       "      <td>75.559998</td>\n",
       "      <td>30.420000</td>\n",
       "      <td>12.80</td>\n",
       "      <td>194.449997</td>\n",
       "      <td>180.520004</td>\n",
       "      <td>26.760000</td>\n",
       "      <td>318.590851</td>\n",
       "      <td>1314.500000</td>\n",
       "    </tr>\n",
       "  </tbody>\n",
       "</table>\n",
       "</div>"
      ],
      "text/plain": [
       "                 AAPL         BA          T    MGM        AMZN         IBM  \\\n",
       "Date                                                                         \n",
       "2012-01-12  60.198570  75.510002  30.120001  12.13  175.929993  180.550003   \n",
       "2012-01-13  59.972858  74.599998  30.070000  12.35  178.419998  179.160004   \n",
       "2012-01-17  60.671429  75.239998  30.250000  12.25  181.660004  180.000000   \n",
       "2012-01-18  61.301430  75.059998  30.330000  12.73  189.440002  181.070007   \n",
       "2012-01-19  61.107143  75.559998  30.420000  12.80  194.449997  180.520004   \n",
       "\n",
       "                 TSLA        GOOG        sp500  \n",
       "Date                                            \n",
       "2012-01-12  28.250000  313.644379  1295.500000  \n",
       "2012-01-13  22.790001  311.328064  1289.089966  \n",
       "2012-01-17  26.600000  313.116364  1293.670044  \n",
       "2012-01-18  26.809999  315.273285  1308.040039  \n",
       "2012-01-19  26.760000  318.590851  1314.500000  "
      ]
     },
     "execution_count": 6,
     "metadata": {},
     "output_type": "execute_result"
    }
   ],
   "source": [
    "# 'Date' 컬럼을 기준으로 데이터프레임을 오름차순으로 정렬하고, 'Date' 컬럼을 인덱스로 설정\n",
    "# 이렇게 하면 시계열 데이터를 시간 순서대로 쉽게 다룰 수 있습니다.\n",
    "stocks_df = stocks_df.sort_values(by = ['Date']).set_index('Date')\n",
    "\n",
    "stocks_df.head()"
   ]
  },
  {
   "cell_type": "markdown",
   "metadata": {},
   "source": [
    "price를 시작일 price로 normalize하는 함수"
   ]
  },
  {
   "cell_type": "code",
   "execution_count": 12,
   "metadata": {
    "colab": {},
    "colab_type": "code",
    "id": "329hiIB9SUN_"
   },
   "outputs": [],
   "source": [
    "def normalize(df):\n",
    "    x = df.copy()   # 데이터프레임 복사본을 만듭니다.\n",
    "    for col in x.columns:\n",
    "        # 각 컬럼의 모든 값을 그 컬럼의 첫 번째 값으로 나누어, 데이터를 정규화합니다.\n",
    "        # 이는 모든 시계열 데이터를 첫 날의 값에 대해 상대적인 변화로 표현합니다.\n",
    "        x[col] = x[col]/x[col].iloc[0]\n",
    "    return x   # 정규화된 데이터프레임을 반환"
   ]
  },
  {
   "cell_type": "code",
   "execution_count": 13,
   "metadata": {},
   "outputs": [
    {
     "data": {
      "text/plain": [
       "<Axes: xlabel='Date'>"
      ]
     },
     "execution_count": 13,
     "metadata": {},
     "output_type": "execute_result"
    },
    {
     "data": {
      "image/png": "[encoded data removed]",
      "text/plain": [
       "<Figure size 1200x600 with 1 Axes>"
      ]
     },
     "metadata": {},
     "output_type": "display_data"
    }
   ],
   "source": [
    "normalize(stocks_df).plot(figsize=(12, 6))"
   ]
  },
  {
   "cell_type": "markdown",
   "metadata": {
    "colab_type": "text",
    "id": "xFn-qwFhUIZk"
   },
   "source": [
    "- 일일 수익률 계산"
   ]
  },
  {
   "cell_type": "code",
   "execution_count": 17,
   "metadata": {},
   "outputs": [
    {
     "data": {
      "text/html": [
       "<div>\n",
       "<style scoped>\n",
       "    .dataframe tbody tr th:only-of-type {\n",
       "        vertical-align: middle;\n",
       "    }\n",
       "\n",
       "    .dataframe tbody tr th {\n",
       "        vertical-align: top;\n",
       "    }\n",
       "\n",
       "    .dataframe thead th {\n",
       "        text-align: right;\n",
       "    }\n",
       "</style>\n",
       "<table border=\"1\" class=\"dataframe\">\n",
       "  <thead>\n",
       "    <tr style=\"text-align: right;\">\n",
       "      <th></th>\n",
       "      <th>AAPL</th>\n",
       "      <th>BA</th>\n",
       "      <th>T</th>\n",
       "      <th>MGM</th>\n",
       "      <th>AMZN</th>\n",
       "      <th>IBM</th>\n",
       "      <th>TSLA</th>\n",
       "      <th>GOOG</th>\n",
       "      <th>sp500</th>\n",
       "    </tr>\n",
       "    <tr>\n",
       "      <th>Date</th>\n",
       "      <th></th>\n",
       "      <th></th>\n",
       "      <th></th>\n",
       "      <th></th>\n",
       "      <th></th>\n",
       "      <th></th>\n",
       "      <th></th>\n",
       "      <th></th>\n",
       "      <th></th>\n",
       "    </tr>\n",
       "  </thead>\n",
       "  <tbody>\n",
       "    <tr>\n",
       "      <th>2012-01-13</th>\n",
       "      <td>-0.003749</td>\n",
       "      <td>-0.012051</td>\n",
       "      <td>-0.001660</td>\n",
       "      <td>0.018137</td>\n",
       "      <td>0.014153</td>\n",
       "      <td>-0.007699</td>\n",
       "      <td>-0.193274</td>\n",
       "      <td>-0.007385</td>\n",
       "      <td>-0.004948</td>\n",
       "    </tr>\n",
       "    <tr>\n",
       "      <th>2012-01-17</th>\n",
       "      <td>0.011648</td>\n",
       "      <td>0.008579</td>\n",
       "      <td>0.005986</td>\n",
       "      <td>-0.008097</td>\n",
       "      <td>0.018159</td>\n",
       "      <td>0.004689</td>\n",
       "      <td>0.167179</td>\n",
       "      <td>0.005744</td>\n",
       "      <td>0.003553</td>\n",
       "    </tr>\n",
       "    <tr>\n",
       "      <th>2012-01-18</th>\n",
       "      <td>0.010384</td>\n",
       "      <td>-0.002392</td>\n",
       "      <td>0.002645</td>\n",
       "      <td>0.039184</td>\n",
       "      <td>0.042827</td>\n",
       "      <td>0.005944</td>\n",
       "      <td>0.007895</td>\n",
       "      <td>0.006889</td>\n",
       "      <td>0.011108</td>\n",
       "    </tr>\n",
       "    <tr>\n",
       "      <th>2012-01-19</th>\n",
       "      <td>-0.003169</td>\n",
       "      <td>0.006661</td>\n",
       "      <td>0.002967</td>\n",
       "      <td>0.005499</td>\n",
       "      <td>0.026446</td>\n",
       "      <td>-0.003038</td>\n",
       "      <td>-0.001865</td>\n",
       "      <td>0.010523</td>\n",
       "      <td>0.004939</td>\n",
       "    </tr>\n",
       "    <tr>\n",
       "      <th>2012-01-20</th>\n",
       "      <td>-0.017417</td>\n",
       "      <td>-0.000529</td>\n",
       "      <td>0.002959</td>\n",
       "      <td>-0.012500</td>\n",
       "      <td>-0.018102</td>\n",
       "      <td>0.044316</td>\n",
       "      <td>-0.005979</td>\n",
       "      <td>-0.083775</td>\n",
       "      <td>0.000669</td>\n",
       "    </tr>\n",
       "  </tbody>\n",
       "</table>\n",
       "</div>"
      ],
      "text/plain": [
       "                AAPL        BA         T       MGM      AMZN       IBM  \\\n",
       "Date                                                                     \n",
       "2012-01-13 -0.003749 -0.012051 -0.001660  0.018137  0.014153 -0.007699   \n",
       "2012-01-17  0.011648  0.008579  0.005986 -0.008097  0.018159  0.004689   \n",
       "2012-01-18  0.010384 -0.002392  0.002645  0.039184  0.042827  0.005944   \n",
       "2012-01-19 -0.003169  0.006661  0.002967  0.005499  0.026446 -0.003038   \n",
       "2012-01-20 -0.017417 -0.000529  0.002959 -0.012500 -0.018102  0.044316   \n",
       "\n",
       "                TSLA      GOOG     sp500  \n",
       "Date                                      \n",
       "2012-01-13 -0.193274 -0.007385 -0.004948  \n",
       "2012-01-17  0.167179  0.005744  0.003553  \n",
       "2012-01-18  0.007895  0.006889  0.011108  \n",
       "2012-01-19 -0.001865  0.010523  0.004939  \n",
       "2012-01-20 -0.005979 -0.083775  0.000669  "
      ]
     },
     "execution_count": 17,
     "metadata": {},
     "output_type": "execute_result"
    }
   ],
   "source": [
    "#일일 수익률 계산 \n",
    "daily_returns = stocks_df.pct_change()\n",
    "\n",
    "# 첫 번째 행의 NaN 제거\n",
    "daily_returns.dropna(inplace=True)\n",
    "daily_returns.head()"
   ]
  },
  {
   "cell_type": "code",
   "execution_count": 18,
   "metadata": {
    "colab": {},
    "colab_type": "code",
    "id": "b6OTX0Uiy-W0"
   },
   "outputs": [
    {
     "data": {
      "text/plain": [
       "TSLA     0.002385\n",
       "AMZN     0.001512\n",
       "AAPL     0.001077\n",
       "GOOG     0.000844\n",
       "BA       0.000659\n",
       "MGM      0.000647\n",
       "sp500    0.000493\n",
       "T        0.000082\n",
       "IBM     -0.000061\n",
       "dtype: float64"
      ]
     },
     "execution_count": 18,
     "metadata": {},
     "output_type": "execute_result"
    }
   ],
   "source": [
    "# 각 주식의 평균 일일 수익률 계산\n",
    "mean_daily_returns = daily_returns.mean()\n",
    "\n",
    "# 가장 높은 수익률을 가진 주식부터 내림차순 정렬\n",
    "sorted_mean_daily_returns = mean_daily_returns.sort_values(ascending=False)\n",
    "sorted_mean_daily_returns"
   ]
  },
  {
   "cell_type": "markdown",
   "metadata": {
    "colab_type": "text",
    "id": "CF3D8GlUp6W0"
   },
   "source": [
    "### 단일 주식에 대한 베타 계산\n",
    "- 단일 주식의 일일 수익률"
   ]
  },
  {
   "cell_type": "code",
   "execution_count": 19,
   "metadata": {},
   "outputs": [],
   "source": [
    "stock = 'AAPL'\n",
    "stock_name = 'Apple'"
   ]
  },
  {
   "cell_type": "code",
   "execution_count": 20,
   "metadata": {
    "colab": {
     "base_uri": "https://localhost:8080/",
     "height": 225
    },
    "colab_type": "code",
    "executionInfo": {
     "elapsed": 1133,
     "status": "ok",
     "timestamp": 1598746198836,
     "user": {
      "displayName": "Stemplicity",
      "photoUrl": "https://lh3.googleusercontent.com/a-/AOh14Gj2vCFt-bD5mPBhUWX0QA6xiBgoXQXtwUm2jgjaCg=s64",
      "userId": "10668071569687886186"
     },
     "user_tz": 240
    },
    "id": "mOU9h77xrQP2",
    "outputId": "c55a814e-c0ca-4e6d-93b3-364fa6677e07"
   },
   "outputs": [
    {
     "data": {
      "text/html": [
       "<div>\n",
       "<style scoped>\n",
       "    .dataframe tbody tr th:only-of-type {\n",
       "        vertical-align: middle;\n",
       "    }\n",
       "\n",
       "    .dataframe tbody tr th {\n",
       "        vertical-align: top;\n",
       "    }\n",
       "\n",
       "    .dataframe thead th {\n",
       "        text-align: right;\n",
       "    }\n",
       "</style>\n",
       "<table border=\"1\" class=\"dataframe\">\n",
       "  <thead>\n",
       "    <tr style=\"text-align: right;\">\n",
       "      <th></th>\n",
       "      <th>AAPL</th>\n",
       "      <th>BA</th>\n",
       "      <th>T</th>\n",
       "      <th>MGM</th>\n",
       "      <th>AMZN</th>\n",
       "      <th>IBM</th>\n",
       "      <th>TSLA</th>\n",
       "      <th>GOOG</th>\n",
       "      <th>sp500</th>\n",
       "    </tr>\n",
       "    <tr>\n",
       "      <th>Date</th>\n",
       "      <th></th>\n",
       "      <th></th>\n",
       "      <th></th>\n",
       "      <th></th>\n",
       "      <th></th>\n",
       "      <th></th>\n",
       "      <th></th>\n",
       "      <th></th>\n",
       "      <th></th>\n",
       "    </tr>\n",
       "  </thead>\n",
       "  <tbody>\n",
       "    <tr>\n",
       "      <th>2012-01-13</th>\n",
       "      <td>-0.003749</td>\n",
       "      <td>-0.012051</td>\n",
       "      <td>-0.001660</td>\n",
       "      <td>0.018137</td>\n",
       "      <td>0.014153</td>\n",
       "      <td>-0.007699</td>\n",
       "      <td>-0.193274</td>\n",
       "      <td>-0.007385</td>\n",
       "      <td>-0.004948</td>\n",
       "    </tr>\n",
       "    <tr>\n",
       "      <th>2012-01-17</th>\n",
       "      <td>0.011648</td>\n",
       "      <td>0.008579</td>\n",
       "      <td>0.005986</td>\n",
       "      <td>-0.008097</td>\n",
       "      <td>0.018159</td>\n",
       "      <td>0.004689</td>\n",
       "      <td>0.167179</td>\n",
       "      <td>0.005744</td>\n",
       "      <td>0.003553</td>\n",
       "    </tr>\n",
       "    <tr>\n",
       "      <th>2012-01-18</th>\n",
       "      <td>0.010384</td>\n",
       "      <td>-0.002392</td>\n",
       "      <td>0.002645</td>\n",
       "      <td>0.039184</td>\n",
       "      <td>0.042827</td>\n",
       "      <td>0.005944</td>\n",
       "      <td>0.007895</td>\n",
       "      <td>0.006889</td>\n",
       "      <td>0.011108</td>\n",
       "    </tr>\n",
       "    <tr>\n",
       "      <th>2012-01-19</th>\n",
       "      <td>-0.003169</td>\n",
       "      <td>0.006661</td>\n",
       "      <td>0.002967</td>\n",
       "      <td>0.005499</td>\n",
       "      <td>0.026446</td>\n",
       "      <td>-0.003038</td>\n",
       "      <td>-0.001865</td>\n",
       "      <td>0.010523</td>\n",
       "      <td>0.004939</td>\n",
       "    </tr>\n",
       "    <tr>\n",
       "      <th>2012-01-20</th>\n",
       "      <td>-0.017417</td>\n",
       "      <td>-0.000529</td>\n",
       "      <td>0.002959</td>\n",
       "      <td>-0.012500</td>\n",
       "      <td>-0.018102</td>\n",
       "      <td>0.044316</td>\n",
       "      <td>-0.005979</td>\n",
       "      <td>-0.083775</td>\n",
       "      <td>0.000669</td>\n",
       "    </tr>\n",
       "  </tbody>\n",
       "</table>\n",
       "</div>"
      ],
      "text/plain": [
       "                AAPL        BA         T       MGM      AMZN       IBM  \\\n",
       "Date                                                                     \n",
       "2012-01-13 -0.003749 -0.012051 -0.001660  0.018137  0.014153 -0.007699   \n",
       "2012-01-17  0.011648  0.008579  0.005986 -0.008097  0.018159  0.004689   \n",
       "2012-01-18  0.010384 -0.002392  0.002645  0.039184  0.042827  0.005944   \n",
       "2012-01-19 -0.003169  0.006661  0.002967  0.005499  0.026446 -0.003038   \n",
       "2012-01-20 -0.017417 -0.000529  0.002959 -0.012500 -0.018102  0.044316   \n",
       "\n",
       "                TSLA      GOOG     sp500  \n",
       "Date                                      \n",
       "2012-01-13 -0.193274 -0.007385 -0.004948  \n",
       "2012-01-17  0.167179  0.005744  0.003553  \n",
       "2012-01-18  0.007895  0.006889  0.011108  \n",
       "2012-01-19 -0.001865  0.010523  0.004939  \n",
       "2012-01-20 -0.005979 -0.083775  0.000669  "
      ]
     },
     "execution_count": 20,
     "metadata": {},
     "output_type": "execute_result"
    }
   ],
   "source": [
    "daily_returns.head()"
   ]
  },
  {
   "cell_type": "markdown",
   "metadata": {},
   "source": [
    "선택한 주식과 S&P500(시장) 사이의 산점도를 플로팅합니다."
   ]
  },
  {
   "cell_type": "code",
   "execution_count": 21,
   "metadata": {},
   "outputs": [
    {
     "data": {
      "text/html": [
       "<div>\n",
       "<style scoped>\n",
       "    .dataframe tbody tr th:only-of-type {\n",
       "        vertical-align: middle;\n",
       "    }\n",
       "\n",
       "    .dataframe tbody tr th {\n",
       "        vertical-align: top;\n",
       "    }\n",
       "\n",
       "    .dataframe thead th {\n",
       "        text-align: right;\n",
       "    }\n",
       "</style>\n",
       "<table border=\"1\" class=\"dataframe\">\n",
       "  <thead>\n",
       "    <tr style=\"text-align: right;\">\n",
       "      <th></th>\n",
       "      <th>AAPL</th>\n",
       "      <th>sp500</th>\n",
       "    </tr>\n",
       "    <tr>\n",
       "      <th>Date</th>\n",
       "      <th></th>\n",
       "      <th></th>\n",
       "    </tr>\n",
       "  </thead>\n",
       "  <tbody>\n",
       "    <tr>\n",
       "      <th>2012-01-13</th>\n",
       "      <td>-0.003749</td>\n",
       "      <td>-0.004948</td>\n",
       "    </tr>\n",
       "    <tr>\n",
       "      <th>2012-01-17</th>\n",
       "      <td>0.011648</td>\n",
       "      <td>0.003553</td>\n",
       "    </tr>\n",
       "    <tr>\n",
       "      <th>2012-01-18</th>\n",
       "      <td>0.010384</td>\n",
       "      <td>0.011108</td>\n",
       "    </tr>\n",
       "    <tr>\n",
       "      <th>2012-01-19</th>\n",
       "      <td>-0.003169</td>\n",
       "      <td>0.004939</td>\n",
       "    </tr>\n",
       "    <tr>\n",
       "      <th>2012-01-20</th>\n",
       "      <td>-0.017417</td>\n",
       "      <td>0.000669</td>\n",
       "    </tr>\n",
       "  </tbody>\n",
       "</table>\n",
       "</div>"
      ],
      "text/plain": [
       "                AAPL     sp500\n",
       "Date                          \n",
       "2012-01-13 -0.003749 -0.004948\n",
       "2012-01-17  0.011648  0.003553\n",
       "2012-01-18  0.010384  0.011108\n",
       "2012-01-19 -0.003169  0.004939\n",
       "2012-01-20 -0.017417  0.000669"
      ]
     },
     "execution_count": 21,
     "metadata": {},
     "output_type": "execute_result"
    }
   ],
   "source": [
    "daily_returns[['AAPL', 'sp500']].head()"
   ]
  },
  {
   "cell_type": "code",
   "execution_count": 22,
   "metadata": {},
   "outputs": [
    {
     "data": {
      "text/plain": [
       "<Axes: xlabel='AAPL', ylabel='sp500'>"
      ]
     },
     "execution_count": 22,
     "metadata": {},
     "output_type": "execute_result"
    },
    {
     "data": {
      "image/png": "[encoded data removed]",
      "text/plain": [
       "<Figure size 640x480 with 1 Axes>"
      ]
     },
     "metadata": {},
     "output_type": "display_data"
    }
   ],
   "source": [
    "import seaborn as sns\n",
    "\n",
    "# 'AAPL'과 'sp500'의 일일 수익률을 산점도로 표시\n",
    "# x축은 'AAPL'의 일일 수익률을, y축은 'sp500'의 일일 수익률을 나타내며, \n",
    "# 각 점은 특정 거래일의 수익률을 나타냅니다.\n",
    "sns.scatterplot(x=daily_returns['AAPL'], y=daily_returns['sp500'])"
   ]
  },
  {
   "cell_type": "markdown",
   "metadata": {},
   "source": [
    "### Linear Regression을 이용한 BETA 계산"
   ]
  },
  {
   "cell_type": "code",
   "execution_count": 23,
   "metadata": {},
   "outputs": [
    {
     "data": {
      "text/plain": [
       "((2158, 1), (2158,))"
      ]
     },
     "execution_count": 23,
     "metadata": {},
     "output_type": "execute_result"
    }
   ],
   "source": [
    "X = daily_returns['sp500'].values.reshape(-1, 1)\n",
    "y = daily_returns['AAPL']\n",
    "X.shape, y.shape"
   ]
  },
  {
   "cell_type": "code",
   "execution_count": 26,
   "metadata": {},
   "outputs": [
    {
     "data": {
      "text/plain": [
       "(array([1.11289132]), 0.000528366115486677)"
      ]
     },
     "execution_count": 26,
     "metadata": {},
     "output_type": "execute_result"
    }
   ],
   "source": [
    "from sklearn.linear_model import LinearRegression\n",
    "\n",
    "lr = LinearRegression()\n",
    "lr.fit(X, y)\n",
    "\n",
    "lr.coef_, lr.intercept_"
   ]
  },
  {
   "cell_type": "markdown",
   "metadata": {},
   "source": [
    "알파는 시장(S&P500)을 이길 수 있는 전략의 능력을 나타냅니다.  \n",
    "\n",
    "알파는 \"초과 수익률\" 또는 \"비정상적 수익률\"을 나타내며 예를 들어 0.00175 알파는 포트폴리오의 수익률이 벤치마크 S&P500 지수를 0.17% 초과했음을 의미합니다."
   ]
  },
  {
   "cell_type": "code",
   "execution_count": 27,
   "metadata": {},
   "outputs": [
    {
     "name": "stdout",
     "output_type": "stream",
     "text": [
      "AAPL 주식의 BETA = 1.1128913172512678, alpha = 0.000528366115486677\n"
     ]
    }
   ],
   "source": [
    "beta = lr.coef_[0]\n",
    "alpha = lr.intercept_\n",
    "print(f\"{stock} 주식의 BETA = {beta}, alpha = {alpha}\")"
   ]
  },
  {
   "cell_type": "markdown",
   "metadata": {},
   "source": [
    "### 증권시장선 Line plot  \n",
    "베타와 알파 값은 캐피탈 자산 가격 모델(CAPM)에서 파생되며, 주식의 시장 대비 위험과 기대 수익률을 나타내는 지표입니다."
   ]
  },
  {
   "cell_type": "code",
   "execution_count": 28,
   "metadata": {},
   "outputs": [
    {
     "data": {
      "text/plain": [
       "[<matplotlib.lines.Line2D at 0x1a0b01a4820>]"
      ]
     },
     "execution_count": 28,
     "metadata": {},
     "output_type": "execute_result"
    },
    {
     "data": {
      "image/png": "[encoded data removed]",
      "text/plain": [
       "<Figure size 640x480 with 1 Axes>"
      ]
     },
     "metadata": {},
     "output_type": "display_data"
    }
   ],
   "source": [
    "# 산점도 위에 선형 회귀선을 그립니다. 'sp500' 수익률에 대한 'AAPL' 수익률의 선형 관계를 나타내며, \n",
    "# 베타(beta)는 기울기, 알파(alpha)는 y절편을 의미합니다. 이 선은 'AAPL'과 'sp500' 수익률 간의 관계를 나타냅니다.\n",
    "sns.scatterplot(x=daily_returns['AAPL'], y=daily_returns['sp500'])\n",
    "plt.plot(daily_returns['sp500'], beta * daily_returns['sp500'] + alpha, 'r')"
   ]
  },
  {
   "cell_type": "markdown",
   "metadata": {
    "colab_type": "text",
    "id": "R7ojW2776nuY"
   },
   "source": [
    "## beta를 구한 개별 주식에 CAPM 공식 적용\n",
    "- 개별 주식의 기대 수익률 계산\n",
    "### $ r_i = r_f + \\beta * (r_m - r_f )$   "
   ]
  },
  {
   "cell_type": "code",
   "execution_count": 29,
   "metadata": {
    "colab": {
     "base_uri": "https://localhost:8080/",
     "height": 35
    },
    "colab_type": "code",
    "executionInfo": {
     "elapsed": 520,
     "status": "ok",
     "timestamp": 1598752981603,
     "user": {
      "displayName": "Stemplicity",
      "photoUrl": "https://lh3.googleusercontent.com/a-/AOh14Gj2vCFt-bD5mPBhUWX0QA6xiBgoXQXtwUm2jgjaCg=s64",
      "userId": "10668071569687886186"
     },
     "user_tz": 240
    },
    "id": "6MZZaoXP6vvG",
    "outputId": "bf13d64e-7d48-4464-ec8f-f47359f14268"
   },
   "outputs": [
    {
     "name": "stdout",
     "output_type": "stream",
     "text": [
      "AAPL 주식의 BETA = 1.1128913172512678\n"
     ]
    }
   ],
   "source": [
    "print(f\"{stock} 주식의 BETA = {beta}\")"
   ]
  },
  {
   "cell_type": "markdown",
   "metadata": {},
   "source": [
    "S&P500의 일일 평균 수익률"
   ]
  },
  {
   "cell_type": "code",
   "execution_count": 30,
   "metadata": {
    "colab": {
     "base_uri": "https://localhost:8080/",
     "height": 35
    },
    "colab_type": "code",
    "executionInfo": {
     "elapsed": 1076,
     "status": "ok",
     "timestamp": 1598752984079,
     "user": {
      "displayName": "Stemplicity",
      "photoUrl": "https://lh3.googleusercontent.com/a-/AOh14Gj2vCFt-bD5mPBhUWX0QA6xiBgoXQXtwUm2jgjaCg=s64",
      "userId": "10668071569687886186"
     },
     "user_tz": 240
    },
    "id": "sH1DdoOC1Xw9",
    "outputId": "1ac843c5-2e2a-4edd-f0ee-a0639f56b35b"
   },
   "outputs": [
    {
     "data": {
      "text/plain": [
       "0.0004933885924478228"
      ]
     },
     "execution_count": 30,
     "metadata": {},
     "output_type": "execute_result"
    }
   ],
   "source": [
    "daily_returns['sp500'].mean()"
   ]
  },
  {
   "cell_type": "markdown",
   "metadata": {},
   "source": [
    "S&P500의 연간 수익률"
   ]
  },
  {
   "cell_type": "code",
   "execution_count": 31,
   "metadata": {},
   "outputs": [
    {
     "data": {
      "text/plain": [
       "0.12433392529685133"
      ]
     },
     "execution_count": 31,
     "metadata": {},
     "output_type": "execute_result"
    }
   ],
   "source": [
    "rm = daily_returns['sp500'].mean() * 252\n",
    "rm"
   ]
  },
  {
   "cell_type": "markdown",
   "metadata": {},
   "source": [
    "개별 주식의 연간 수익률"
   ]
  },
  {
   "cell_type": "code",
   "execution_count": 32,
   "metadata": {},
   "outputs": [
    {
     "data": {
      "text/plain": [
       "0.1383701459026336"
      ]
     },
     "execution_count": 32,
     "metadata": {},
     "output_type": "execute_result"
    }
   ],
   "source": [
    "rf = 0  # 무위험 수익률\n",
    "\n",
    "R_i = rf + beta * (rm - rf)\n",
    "R_i"
   ]
  },
  {
   "cell_type": "code",
   "execution_count": 36,
   "metadata": {},
   "outputs": [
    {
     "name": "stdout",
     "output_type": "stream",
     "text": [
      "\n",
      "CAPM 공식에 따르면,\n",
      "단순히 마켓 인덱스에 투자할 때 연 12.43%의 수익이 기대되나, \n",
      "Apple 주식에 투자할 때는 연 13.84%의 수익이 기대된다. \n",
      "==> 공격적 투자.\n",
      "\n"
     ]
    }
   ],
   "source": [
    "print(\n",
    "f\"\"\"\n",
    "CAPM 공식에 따르면,\n",
    "단순히 마켓 인덱스에 투자할 때 연 {rm * 100:.2f}%의 수익이 기대되나, \n",
    "{stock_name} 주식에 투자할 때는 연 {R_i * 100:.2f}%의 수익이 기대된다. \n",
    "==> 공격적 투자.\n",
    "\"\"\")"
   ]
  },
  {
   "cell_type": "markdown",
   "metadata": {},
   "source": [
    "- AT&T의 기대 수익률 계산"
   ]
  },
  {
   "cell_type": "code",
   "execution_count": 34,
   "metadata": {},
   "outputs": [
    {
     "data": {
      "text/plain": [
       "0.09258276322446769"
      ]
     },
     "execution_count": 34,
     "metadata": {},
     "output_type": "execute_result"
    }
   ],
   "source": [
    "stock = 'T' \n",
    "\n",
    "X = daily_returns['sp500'].values.reshape(-1, 1)\n",
    "y = daily_returns[stock]\n",
    "\n",
    "lr = LinearRegression()\n",
    "lr.fit(X, y)\n",
    "\n",
    "beta = lr.coef_[0]\n",
    "\n",
    "ER_AT = rf + beta * (rm - rf)\n",
    "ER_AT"
   ]
  },
  {
   "cell_type": "code",
   "execution_count": 37,
   "metadata": {},
   "outputs": [
    {
     "name": "stdout",
     "output_type": "stream",
     "text": [
      "\n",
      "CAPM 공식에 따르면,\n",
      "단순히 마켓 인덱스에 투자할 때 연 12.43%의 수익이 기대되나, \n",
      "T 주식에 투자할 때는 연 9.26%의 수익이 기대된다. \n",
      "==> 방어적 투자.\n",
      "\n"
     ]
    }
   ],
   "source": [
    "print(\n",
    "f\"\"\"\n",
    "CAPM 공식에 따르면,\n",
    "단순히 마켓 인덱스에 투자할 때 연 {rm * 100:.2f}%의 수익이 기대되나, \n",
    "{stock} 주식에 투자할 때는 연 {ER_AT * 100:.2f}%의 수익이 기대된다. \n",
    "==> 방어적 투자.\n",
    "\"\"\")"
   ]
  },
  {
   "cell_type": "code",
   "execution_count": null,
   "metadata": {},
   "outputs": [],
   "source": []
  }
 ],
 "metadata": {
  "colab": {
   "authorship_tag": "ABX9TyMaRbA/bqiLJiI9SL7InFbR",
   "collapsed_sections": [],
   "name": "Finance 101 - Capital Asset Pricing Model (CAPM) - Skeleton Prior Filming.ipynb",
   "provenance": []
  },
  "kernelspec": {
   "display_name": "Python 3 (ipykernel)",
   "language": "python",
   "name": "python3"
  },
  "language_info": {
   "codemirror_mode": {
    "name": "ipython",
    "version": 3
   },
   "file_extension": ".py",
   "mimetype": "text/x-python",
   "name": "python",
   "nbconvert_exporter": "python",
   "pygments_lexer": "ipython3",
   "version": "3.9.16"
  }
 },
 "nbformat": 4,
 "nbformat_minor": 4
}
