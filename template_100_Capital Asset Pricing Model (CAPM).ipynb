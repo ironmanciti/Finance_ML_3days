{
 "cells": [
  {
   "cell_type": "markdown",
   "metadata": {
    "colab_type": "text",
    "id": "_OtNKjlXS5YR"
   },
   "source": [
    "# CAPM - Capital Asset Pricing Model \n",
    "\n",
    "## simple linear regression으로 CAPM을 Modeling\n",
    "- market portfolio 는 S&P500 사용\n",
    "- Apple 단일 주식 portfolio 사용\n",
    "\n",
    "### CAPM 공식 이용\n",
    "### $ r_i = r_f + \\beta * (r_m - r_f )$"
   ]
  },
  {
   "cell_type": "markdown",
   "metadata": {},
   "source": [
    "날짜를 기준으로 데이터를 정렬하고 날짜를 인덱스로 설정"
   ]
  },
  {
   "cell_type": "markdown",
   "metadata": {},
   "source": [
    "price를 시작일 price로 normalize하는 함수"
   ]
  },
  {
   "cell_type": "markdown",
   "metadata": {
    "colab_type": "text",
    "id": "xFn-qwFhUIZk"
   },
   "source": [
    "- 일일 수익률 계산"
   ]
  },
  {
   "cell_type": "markdown",
   "metadata": {
    "colab_type": "text",
    "id": "CF3D8GlUp6W0"
   },
   "source": [
    "### 단일 주식에 대한 베타 계산\n",
    "- 단일 주식의 일일 수익률"
   ]
  },
  {
   "cell_type": "markdown",
   "metadata": {},
   "source": [
    "선택한 주식과 S&P500(시장) 사이의 산점도를 플로팅합니다."
   ]
  },
  {
   "cell_type": "markdown",
   "metadata": {},
   "source": [
    "### Linear Regression을 이용한 BETA 계산"
   ]
  },
  {
   "cell_type": "markdown",
   "metadata": {},
   "source": [
    "알파는 시장(S&P500)을 이길 수 있는 전략의 능력을 나타냅니다.  \n",
    "\n",
    "알파는 \"초과 수익률\" 또는 \"비정상적 수익률\"을 나타내며 예를 들어 0.00175 알파는 포트폴리오의 수익률이 벤치마크 S&P500 지수를 0.17% 초과했음을 의미합니다."
   ]
  },
  {
   "cell_type": "markdown",
   "metadata": {},
   "source": [
    "### 증권시장선 Line plot  \n",
    "베타와 알파 값은 캐피탈 자산 가격 모델(CAPM)에서 파생되며, 주식의 시장 대비 위험과 기대 수익률을 나타내는 지표입니다."
   ]
  },
  {
   "cell_type": "markdown",
   "metadata": {
    "colab_type": "text",
    "id": "R7ojW2776nuY"
   },
   "source": [
    "## beta를 구한 개별 주식에 CAPM 공식 적용\n",
    "- 개별 주식의 기대 수익률 계산\n",
    "### $ r_i = r_f + \\beta * (r_m - r_f )$   "
   ]
  },
  {
   "cell_type": "markdown",
   "metadata": {},
   "source": [
    "S&P500의 일일 평균 수익률"
   ]
  },
  {
   "cell_type": "markdown",
   "metadata": {},
   "source": [
    "S&P500의 연간 수익률"
   ]
  },
  {
   "cell_type": "markdown",
   "metadata": {},
   "source": [
    "개별 주식의 연간 수익률"
   ]
  },
  {
   "cell_type": "markdown",
   "metadata": {},
   "source": [
    "- AT&T의 기대 수익률 계산"
   ]
  }
 ],
 "metadata": {
  "colab": {
   "authorship_tag": "ABX9TyMaRbA/bqiLJiI9SL7InFbR",
   "collapsed_sections": [],
   "name": "Finance 101 - Capital Asset Pricing Model (CAPM) - Skeleton Prior Filming.ipynb",
   "provenance": []
  },
  "kernelspec": {
   "display_name": "Python 3 (ipykernel)",
   "language": "python",
   "name": "python3"
  },
  "language_info": {
   "codemirror_mode": {
    "name": "ipython",
    "version": 3
   },
   "file_extension": ".py",
   "mimetype": "text/x-python",
   "name": "python",
   "nbconvert_exporter": "python",
   "pygments_lexer": "ipython3",
   "version": "3.9.16"
  }
 },
 "nbformat": 4,
 "nbformat_minor": 4
}
