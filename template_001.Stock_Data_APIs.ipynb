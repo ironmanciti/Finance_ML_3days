{
 "cells": [
  {
   "cell_type": "markdown",
   "id": "human-franklin",
   "metadata": {},
   "source": [
    "# Free stock market APIs\n",
    "\n",
    "주식 시장 데이터 API는 현재 시장에서 거래되는 금융 자산에 대한 실시간 또는 과거 데이터를 제공합니다. 이러한 API는 일반적으로 공개 주식, ETF, ETN의 가격을 제공합니다.  \n",
    "이러한 데이터는 거래 전략을 수립하고 시장을 모니터링하는 기반이 되는 기술 지표를 생성하는 데 사용할 수 있습니다. "
   ]
  },
  {
   "cell_type": "markdown",
   "id": "afraid-surrey",
   "metadata": {},
   "source": [
    "# 1. 야후 파이낸스\n",
    "문서: [yfinance](https://github.com/ranaroussi/yfinance)  \n",
    "tutorial: https://aroussi.com/post/python-yahoo-finance"
   ]
  },
  {
   "cell_type": "markdown",
   "id": "46fd7a64",
   "metadata": {},
   "source": [
    "### Yahoo Finance 사용 방법 1:\n",
    "\n",
    "- yf.Ticker 클래스를 사용하여 특정 주식에 대한 객체를 생성  \n",
    "- history() 메서드를 호출하여 주식의 과거 데이터를 검색  \n",
    "- history 외에도 주식의 배당금(dividends), 액면분할(splits), 재무제표(financials), 주주 정보(institutional_holders) 등 추가적인 정보에 쉽게 접근 가능"
   ]
  },
  {
   "cell_type": "markdown",
   "id": "2fbc9349-6a9f-4301-acb3-cd08b0b58a34",
   "metadata": {},
   "source": [
    "### Yahoo Finance 사용 방법 2:\n",
    "- yf.download 함수를 사용하여 지정된 기간 동안의 주식 데이터를 바로 다운로드\n",
    "- 데이터를 빠르고 간단하게 조회할 때 유용"
   ]
  },
  {
   "cell_type": "markdown",
   "id": "13b9f694-1842-4337-b6c7-29075a10858f",
   "metadata": {},
   "source": [
    "### 실습\n",
    "\n",
    "Microsoft의 2024.1.1 ~ 2024.1.31 사이의 주가 조회"
   ]
  },
  {
   "cell_type": "markdown",
   "id": "def04c04",
   "metadata": {},
   "source": [
    "### 한국 주식 주가 조회"
   ]
  },
  {
   "cell_type": "markdown",
   "id": "functioning-garlic",
   "metadata": {},
   "source": [
    "# 2. FinanceDataReader\n",
    "사용자 안내서 : https://financedata.github.io/posts/finance-data-reader-users-guide.html\n",
    "\n",
    "- 종목 코드  \n",
    "거래소별 전체 종목코드: KRX (KOSPI, KODAQ, KONEX), NASDAQ, NYSE, AMEX, S&P 500  \n",
    "\n",
    "\n",
    "- 가격 데이터  \n",
    "해외주식 가격 데이터: AAPL(애플), AMZN(아마존), GOOG(구글) 등  \n",
    "국내주식 가격 데이터: 005930(삼성전자), 091990(셀트리온헬스케어) 등  \n",
    "각종 지수: KS11(코스피지수), KQ11(코스닥지수), DJI(다우지수), IXIC(나스닥 지수), US500(S&P 5000)  \n",
    "환율 데이터: USD/KRX (원달러 환율), USD/EUR(달러당 유로화 환율), CNY/KRW: 위엔화 원화 환율  \n",
    "암호화폐 가격: BTC/USD (비트코인 달러 가격, Bitfinex), BTC/KRW (비트코인 원화 가격, 빗썸)  "
   ]
  },
  {
   "cell_type": "markdown",
   "id": "81bcba20",
   "metadata": {},
   "source": [
    "- 미국 주식"
   ]
  },
  {
   "cell_type": "markdown",
   "id": "ca0aa670",
   "metadata": {},
   "source": [
    "- 한국 주식"
   ]
  },
  {
   "cell_type": "markdown",
   "id": "29570dc1",
   "metadata": {},
   "source": [
    "- 비트코인"
   ]
  },
  {
   "cell_type": "markdown",
   "id": "2d29d336-7732-4186-a99c-38c777a48b7e",
   "metadata": {},
   "source": [
    "### PyKrx\n",
    "\n",
    "사용자 안내서 : https://github.com/sharebook-kr/pykrx\n",
    "\n",
    "(Naver / KRX)에서 주가 정보를 스크래핑(scraping) "
   ]
  },
  {
   "cell_type": "markdown",
   "id": "a7c94c57-2942-486f-94c0-bcf89a641b22",
   "metadata": {},
   "source": [
    "- 코스피 시장에 상장된 ticker"
   ]
  },
  {
   "cell_type": "markdown",
   "id": "66a50171-e2d0-4f6e-98f6-727a5b74a7d0",
   "metadata": {},
   "source": [
    "- 종목명 반환"
   ]
  },
  {
   "cell_type": "markdown",
   "id": "fea717bb-5f5d-4c9c-8982-6cf6e9d4e955",
   "metadata": {},
   "source": [
    "- 일자별 OHLCV 조회 - 시작일/종료일/티커 : 네이버에서 수정 주가를 스크래핑"
   ]
  }
 ],
 "metadata": {
  "kernelspec": {
   "display_name": "Python 3 (ipykernel)",
   "language": "python",
   "name": "python3"
  },
  "language_info": {
   "codemirror_mode": {
    "name": "ipython",
    "version": 3
   },
   "file_extension": ".py",
   "mimetype": "text/x-python",
   "name": "python",
   "nbconvert_exporter": "python",
   "pygments_lexer": "ipython3",
   "version": "3.9.16"
  }
 },
 "nbformat": 4,
 "nbformat_minor": 5
}
