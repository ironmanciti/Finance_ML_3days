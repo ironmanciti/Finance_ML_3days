{
 "cells": [
  {
   "cell_type": "markdown",
   "metadata": {},
   "source": [
    "# Value At Risk (위험 가치)\n",
    "\n",
    "Value At Risk (VaR) 또는 \"위험 가치\"는 투자 포트폴리오에서 일정 기간 동안 발생할 수 있는 최대 예상 손실을 측정하는 데 사용되는 금융 위험 관리 도구입니다. VaR은 주어진 확률과 시간 기간에 대한 손실의 최대 금액을 나타냅니다.\n",
    "\n",
    "예를 들어, 1일 VaR이 1백만 달러, 5%라고 한다면, 이는 하루에 1백만 달러 이상 손실이 발생할 확률이 5%라는 의미입니다. 다시 말해, 100일 중 약 5일 동안 투자자는 1백만 달러 이상 손실을 볼 수 있다는 것을 예상할 수 있습니다.\n",
    "\n",
    "- VaR은 일반적으로 세 가지 요소를 고려하여 계산됩니다:  \n",
    "1. 확률 또는 신뢰 수준(Confidence level): 손실이 예상치를 초과할 확률.  \n",
    "2. 시간 기간(Time horizon): VaR 측정치를 기반으로 하는 기간.  \n",
    "3. 손실 금액(Loss amount): 주어진 확률과 시간 기간 동안 손실될 수 있는 금액.  \n",
    "\n",
    "VaR은 자산, 포트폴리오, 회사 또는 금융 기관의 위험을 측정하고 이해하는 데 유용한 도구이지만, 극단적인 이벤트(즉, \"꼬리\" 위험)를 잘 포착하지 못하는 한계가 있습니다. 따라서 VaR은 종종 다른 위험 관리 지표와 함께 사용됩니다.\n",
    "\n",
    "### APPLE 주식의 로그 수익률 분포\n",
    "\n",
    "- histogram 으로 확인하면 normal distribution 에 매우 가깝게 나타난다.\n",
    "- Mean(mu), variance(sigma) 를 historic data 로부터 추정"
   ]
  },
  {
   "cell_type": "markdown",
   "metadata": {},
   "source": [
    "- 로그 수익률 계산"
   ]
  },
  {
   "cell_type": "markdown",
   "metadata": {},
   "source": [
    "- 로그 수익률의 평균, 표준편차 계산  \n",
    "\n",
    "ddof=1은 델타 자유도(delta degrees of freedom)를 의미하며, 이는 표준 편차를 계산할 때 표본 크기에서 1을 빼는 것을 나타냅니다. 이는 표본 표준 편차를 계산할 때 사용되며, 모집단 표준 편차를 추정합니다."
   ]
  },
  {
   "cell_type": "markdown",
   "metadata": {},
   "source": [
    "### 수익률 분포 시각화"
   ]
  },
  {
   "cell_type": "markdown",
   "metadata": {},
   "source": [
    "### 확률밀도함수(probability density function) 시각화\n",
    "- 확률밀도 함수의 95% 신뢰구간 시각화"
   ]
  },
  {
   "cell_type": "markdown",
   "metadata": {},
   "source": [
    "- 정규분포에 따른 확률 밀도 함수"
   ]
  },
  {
   "cell_type": "markdown",
   "metadata": {},
   "source": [
    "### 주식이 하루에 x% 이상 하락할 확률 계산"
   ]
  },
  {
   "cell_type": "markdown",
   "metadata": {},
   "source": [
    "- 누적 분포 함수(Cumulative distribution function, cdf)는 주어진 특정 값보다 작거나 같은 확률을 나타내는 함수이다.   \n",
    " \n",
    "\n",
    "- `norm.cdf` 함수는 누적 분포 함수(cumulative distribution function)를 나타내며, 특정 값 이하의 확률을 반환.  \n",
    "    - 사용 방법 - norm.cdf(z-score) or norm.cdf(X, mu, sigma) --> Probability"
   ]
  },
  {
   "cell_type": "markdown",
   "metadata": {},
   "source": [
    "예) 하루 5% 이상 하락할 확률 $\\rightarrow$  -0.05 이하의 값이 나올 확률"
   ]
  },
  {
   "cell_type": "markdown",
   "metadata": {},
   "source": [
    "- 하루에 10% 이상 하락할 확률 $\\rightarrow$  -0.1 이하의 값이 나올 확률"
   ]
  },
  {
   "cell_type": "markdown",
   "metadata": {},
   "source": [
    "- 하루 1% 이상 하락할 확률"
   ]
  },
  {
   "cell_type": "markdown",
   "metadata": {},
   "source": [
    "위에서 계산한 확률을 시각화"
   ]
  },
  {
   "cell_type": "markdown",
   "metadata": {},
   "source": [
    "### 주식이 일년(220 거래일)에 xx% 이상 하락할 확률 계산\n",
    "\n",
    "- `mu`가 daily return의 평균이므로 220 거래일의 평균 return 은 $220 \\times mu $\n",
    "- `sigma`가 daily return의 표준편차이므로 220 거래일의 표준편차는 $\\sqrt{220} \\times \\sigma$"
   ]
  },
  {
   "cell_type": "markdown",
   "metadata": {},
   "source": [
    "- 1년에 xx% 이상 하락할 확률"
   ]
  },
  {
   "cell_type": "markdown",
   "metadata": {},
   "source": [
    "- 주식이 일년(220 거래일)에 xx% 이상 하락할 확률 확률 시각화"
   ]
  },
  {
   "cell_type": "markdown",
   "metadata": {},
   "source": [
    "## Value at risk (VaR, 위험 가치) 계산\n",
    "- 발생 가능 최대 손실 : 투자 손실의 위험 표시\n",
    "\n",
    "- 일일 수익률의 5% 분위수(quantile)를 95% VaR 또는 95% 수준의 VaR이라고 합니다.   \n",
    "$\\rightarrow$  '95% 확률로 우리의 일일 수익률 손실이 이 VaR 값 이하일 것'이라는 의미. 동시에 이 값을 초과하여 손실이 발생할 확률이 5% 라는 의미."
   ]
  },
  {
   "cell_type": "markdown",
   "metadata": {},
   "source": [
    "**VaR = norm.ppf(significance_level, mu, sigma)**\n",
    "\n",
    " significance_level은 VaR 계산에서 \"우리가 고려하는 특정 위험 수준\"을 의미합니다. 예를 들어, significance_level이 0.05(또는 5%)라면, 이는 \"95%의 확신 수준에서 고려하는 최악의 손실\"을 의미하며, **5%의 확률**로 그보다 더 큰 손실이 발생할 수 있음을 의미합니다. 다시 말해, \"5%의 확률로 발생할 수 있는 최대 손실\"을 의미."
   ]
  },
  {
   "cell_type": "markdown",
   "metadata": {},
   "source": [
    "유의 수준(가능성) 5%에서 VaR 계산 $\\rightarrow$ Probability 0.05가 되는 z-score 값 계산과 동일한 의미"
   ]
  },
  {
   "cell_type": "markdown",
   "metadata": {},
   "source": [
    "유의 수준(가능성)을 1%로 낮추면 VaR 증가"
   ]
  }
 ],
 "metadata": {
  "kernelspec": {
   "display_name": "Python 3 (ipykernel)",
   "language": "python",
   "name": "python3"
  },
  "language_info": {
   "codemirror_mode": {
    "name": "ipython",
    "version": 3
   },
   "file_extension": ".py",
   "mimetype": "text/x-python",
   "name": "python",
   "nbconvert_exporter": "python",
   "pygments_lexer": "ipython3",
   "version": "3.9.16"
  }
 },
 "nbformat": 4,
 "nbformat_minor": 4
}
