{
 "cells": [
  {
   "cell_type": "markdown",
   "id": "dabcc3b8",
   "metadata": {},
   "source": [
    "# 시계열 관련 NumPy 및 Pandas 기능"
   ]
  },
  {
   "cell_type": "markdown",
   "id": "26905b2e",
   "metadata": {},
   "source": [
    "## python, numpy, pandas 날짜 타입 비교 및 정리\n",
    "\n",
    "|라이브러리|날짜, 시간 클래스| 타임델타 클래스|\n",
    "|-------|-------------|-------------|\n",
    "|datatime|datetime, date, time|timedelta|\n",
    "|numpy|datetime64|timedelta64|\n",
    "|panads|Timestamp|Timedelta|\n",
    "\n",
    "- datetime은 python 설치 시 기본적으로 내장된 라이브러리로, 날짜를 쓸 것인지, 시간을 쓸 것인지, 날짜와 시간을 합쳐쓸 것인지에 따라 클래스가 분화되어 있음.   \n",
    "예를들어 `2021-3-16` (날짜)을 표시하고 싶으면 `date` 클래스를 사용하고, `2021-3-16 12:34:2` (날짜+시간)를 표시하고 싶으면 `datetime` 클래스를 사용.  \n",
    "\n",
    "\n",
    "- `datetime64`나 `Timestamp`는 각각 numpy, pandas 라이브러리에서 새로 정의한 날짜시간 클래스.   \n",
    "이 둘은 한 클래스로 날짜, 시간, 날짜+시간을 모두 정의할 수 있는 것이 특징."
   ]
  },
  {
   "cell_type": "markdown",
   "id": "ce48965d",
   "metadata": {},
   "source": [
    "### 날짜 데이터 정의 - python "
   ]
  },
  {
   "cell_type": "code",
   "execution_count": 1,
   "id": "af3f07b6",
   "metadata": {},
   "outputs": [
    {
     "name": "stdout",
     "output_type": "stream",
     "text": [
      "2022-05-01\n",
      "2022-05-01 15:30:45\n",
      "15:30:45\n"
     ]
    }
   ],
   "source": [
    "import datetime\n",
    "\n",
    "#날짜\n",
    "print(datetime.date(2022, 5, 1))\n",
    "#날짜 + 시간\n",
    "print(datetime.datetime(2022, 5, 1, 15, 30, 45))\n",
    "#시간\n",
    "print(datetime.time(15, 30, 45))"
   ]
  },
  {
   "cell_type": "markdown",
   "id": "f6e2b0cd",
   "metadata": {},
   "source": [
    "### 날짜 데이터 정의 - numpy"
   ]
  },
  {
   "cell_type": "code",
   "execution_count": 2,
   "id": "846819d6",
   "metadata": {},
   "outputs": [
    {
     "name": "stdout",
     "output_type": "stream",
     "text": [
      "2022-05-01\n"
     ]
    }
   ],
   "source": [
    "import numpy as np \n",
    "\n",
    "#날짜\n",
    "print(np.datetime64('2022-05-01'))"
   ]
  },
  {
   "cell_type": "markdown",
   "id": "18d401cf",
   "metadata": {},
   "source": [
    "### 날짜 데이터 정의 - pandas \n",
    "- pd.Timestamp :  python datetime.datetime 의 Pandas version\n",
    "- pd.to_datetime :  Scalar, array-like, Series or DataFrame/dictionary 형태 data를 pandas DatetimeIndex로 날짜 변환."
   ]
  },
  {
   "cell_type": "code",
   "execution_count": 3,
   "id": "7f2b4dd1",
   "metadata": {},
   "outputs": [
    {
     "name": "stdout",
     "output_type": "stream",
     "text": [
      "2022-05-01 00:00:00\n",
      "2022-05-01 12:30:00\n",
      "2022-05-01 15:30:30\n",
      "<class 'pandas._libs.tslibs.timestamps.Timestamp'>\n",
      "\n",
      "2022-05-01 15:30:30\n",
      "<class 'pandas._libs.tslibs.timestamps.Timestamp'>\n",
      "DatetimeIndex(['2022-05-01', '2022-05-02'], dtype='datetime64[ns]', freq=None)\n"
     ]
    }
   ],
   "source": [
    "import pandas as pd \n",
    "\n",
    "# Timestamp 함수를 사용하여 특정 날짜를 표현합니다.\n",
    "print(pd.Timestamp(2022, 5, 1)) \n",
    "\n",
    "# 연, 월, 일, 시, 분을 지정하여 날짜와 시간을 표현합니다.\n",
    "print(pd.Timestamp(year=2022, month=5, day=1, hour=12, minute=30)) \n",
    "\n",
    "# 문자열을 사용하여 날짜와 시간을 표현합니다. \n",
    "print(pd.Timestamp('2022-05-01 15:30:30'))\n",
    "\n",
    "# 타입을 확인하면 Timestamp 임을 알 수 있습니다.\n",
    "print(type(pd.Timestamp('2022/05/01 15:30:30')))\n",
    "print()\n",
    "\n",
    "# to_datetime 함수를 사용하여 문자열을 Timestamp 로 변환합니다.\n",
    "print(pd.to_datetime('2022-05-01 15:30:30'))\n",
    "\n",
    "# 변환된 객체의 타입을 확인합니다.\n",
    "print(type(pd.to_datetime('2022/05/01 15:30:30')))\n",
    "\n",
    "# 여러 개의 날짜를 리스트로 변환할 수도 있습니다.\n",
    "print(pd.to_datetime(['2022/05/01', '2022/05/02']))   # list\n"
   ]
  },
  {
   "cell_type": "markdown",
   "id": "6ffc0741",
   "metadata": {},
   "source": [
    "### Numpy 의 datetime64 format\n",
    "\n",
    "- NumPy 날짜 배열은 ns(나노초) 단위의 datetime64 객체입니다. \n",
    "- 내부 저장 단위는 문자열 형태에서 자동으로 선택되며 날짜 단위 또는 시간 단위가 될 수 있습니다.   \n",
    "- 날짜 단위는 년('Y'), 월('M'), 주('W'), 일('D')이고 시간 단위는 시('h'), 분('m'), 초('s'), 밀리초('ms') 입니다."
   ]
  },
  {
   "cell_type": "code",
   "execution_count": 4,
   "id": "987cf394",
   "metadata": {},
   "outputs": [
    {
     "data": {
      "text/plain": [
       "0   2022-08-01 12:01:01\n",
       "1   2022-08-02 12:01:02\n",
       "2   2022-08-03 12:01:03\n",
       "3   2022-08-04 12:01:04\n",
       "dtype: datetime64[ns]"
      ]
     },
     "execution_count": 4,
     "metadata": {},
     "output_type": "execute_result"
    }
   ],
   "source": [
    "# 주어진 날짜와 시간을 담은 문자열의 리스트를 pandas Series로 생성합니다.\n",
    "order_date = pd.Series(['2022-08-01 12:01:01', '2022-08-02 12:01:02', \n",
    "                        '2022-08-03 12:01:03', '2022-08-04 12:01:04'])\n",
    "\n",
    "# pandas의 to_datetime 함수를 사용하여 문자열 형태의 날짜를 Timestamp 형태로 변환합니다.\n",
    "order_date = pd.to_datetime(order_date)\n",
    "\n",
    "# 변환된 결과를 출력합니다.\n",
    "order_date"
   ]
  },
  {
   "cell_type": "markdown",
   "id": "c812788c",
   "metadata": {},
   "source": [
    "`datetime64[D]` - 날짜"
   ]
  },
  {
   "cell_type": "code",
   "execution_count": 5,
   "id": "f716446e",
   "metadata": {},
   "outputs": [
    {
     "data": {
      "text/plain": [
       "array(['2022-08-01', '2022-08-02', '2022-08-03', '2022-08-04'],\n",
       "      dtype='datetime64[D]')"
      ]
     },
     "execution_count": 5,
     "metadata": {},
     "output_type": "execute_result"
    }
   ],
   "source": [
    "# numpy의 datetime64를 사용하여 Timestamp를 일 단위로 바꿉니다. \n",
    "# 이렇게 하면 시간 정보는 제거되고 날짜 정보만 남게 됩니다.\n",
    "order_date_daily = np.array(order_date, dtype='datetime64[D]')\n",
    "\n",
    "# 변환된 결과를 출력합니다.\n",
    "order_date_daily"
   ]
  },
  {
   "cell_type": "markdown",
   "id": "a4273e0b",
   "metadata": {},
   "source": [
    "`datetime64[M]` - 월"
   ]
  },
  {
   "cell_type": "markdown",
   "id": "9c35e42e",
   "metadata": {},
   "source": [
    "order_date_monthly = np.array(order_date, dtype='datetime64[M]')\n",
    "order_date_monthly"
   ]
  },
  {
   "cell_type": "code",
   "execution_count": 6,
   "id": "7e4a924c",
   "metadata": {},
   "outputs": [
    {
     "data": {
      "text/plain": [
       "array(['2022-08'], dtype='datetime64[M]')"
      ]
     },
     "execution_count": 6,
     "metadata": {},
     "output_type": "execute_result"
    }
   ],
   "source": [
    "# numpy의 datetime64를 사용하여 Timestamp를 월 단위로 바꿉니다. \n",
    "# 이렇게 하면 일과 시간 정보는 제거되고 연도와 월 정보만 남게 됩니다.\n",
    "# 그 다음 unique 함수를 사용하여 중복된 월을 제거합니다.\n",
    "np.unique(np.array(order_date, dtype='datetime64[M]'))"
   ]
  },
  {
   "cell_type": "markdown",
   "id": "d32e3082",
   "metadata": {},
   "source": [
    "`'datetime64[Y]` - 연"
   ]
  },
  {
   "cell_type": "code",
   "execution_count": 7,
   "id": "e5749996",
   "metadata": {},
   "outputs": [
    {
     "data": {
      "text/plain": [
       "array(['2022'], dtype='datetime64[Y]')"
      ]
     },
     "execution_count": 7,
     "metadata": {},
     "output_type": "execute_result"
    }
   ],
   "source": [
    "# numpy의 datetime64를 사용하여 Timestamp를 연도 단위로 바꿉니다. \n",
    "# 이렇게 하면 월, 일, 시간 정보는 제거되고 연도 정보만 남게 됩니다.\n",
    "# 그 다음 unique 함수를 사용하여 중복된 연도를 제거합니다.\n",
    "np.unique(np.array(order_date, dtype='datetime64[Y]'))"
   ]
  },
  {
   "cell_type": "markdown",
   "id": "2361ffdb",
   "metadata": {},
   "source": [
    "## DateTimeIndex 를 가진 Pandas 시계열 data 생성 및 처리\n",
    "\n",
    "- Timestamp을 index 로 하는 data 를 시계열데이터 (TimeSeries) 라고 부른다. 즉, index 가 DatetimeIndex 인 데이터이다.\n",
    "\n",
    "- 시계열관련 class 와 생성 방법\n",
    "\n",
    "| class         |           설명          |                               생성방법 |Pandas Class|\n",
    "|---------------|:-----------------------:|---------------------------------------:|------------:|\n",
    "| Timestamp     |     하나의 timestamp    |                 to_datetime, Timestamp |pandas.Timestamp|\n",
    "| DatetimeIndex | timestamp 타입의 인덱스 | to_datetime, date_range, DatetimeIndex |pandas.DatetimeIndex|\n",
    "| Period        |       time period       |                                 Period |pandas.Period|"
   ]
  },
  {
   "cell_type": "markdown",
   "id": "3bcee4d9",
   "metadata": {},
   "source": [
    "## to_datetime()\n",
    "\n",
    "- 날짜/시간을 나타내는 **여러 종류의 문자열**을 자동으로 datetime 자료형으로 바꾼 후 DatetimeIndex 자료형 인덱스를 생성"
   ]
  },
  {
   "cell_type": "code",
   "execution_count": 8,
   "id": "2b333c88",
   "metadata": {},
   "outputs": [
    {
     "data": {
      "text/plain": [
       "DatetimeIndex(['2010-01-01', '2015-07-01', '2016-05-01', '2010-01-01',\n",
       "               '2019-12-25', '2020-12-01', '2021-12-20', '2020-12-31'],\n",
       "              dtype='datetime64[ns]', freq=None)"
      ]
     },
     "execution_count": 8,
     "metadata": {},
     "output_type": "execute_result"
    }
   ],
   "source": [
    "# 다양한 형태의 날짜 문자열 리스트입니다.\n",
    "date_str = ['2010-01-01', '2015, 7, 1', 'May, 1 2016', '2010/01/01',\n",
    "            'Dec, 25, 2019', 'DEC 1 2020', 'dec 20 2021', '2020 12 31']\n",
    "\n",
    "# pandas의 to_datetime 함수는 다양한 형태의 날짜 문자열을 인식하여 Timestamp 형태로 변환할 수 있습니다.\n",
    "pd.to_datetime(date_str)"
   ]
  },
  {
   "cell_type": "markdown",
   "id": "b86fd8fc",
   "metadata": {},
   "source": [
    "## date_range\n",
    "```python\n",
    "pd.date_range(start, end, periods, freq)\n",
    "```\n",
    "\n",
    "- 모든 날짜/시간을 일일히 입력할 필요없이 **시작일과 종료일** 또는 **시작일과 기간**을 입력하면 범위 내의 인덱스를 생성  \n",
    "\n",
    "- freq\n",
    "    - S: 초  \n",
    "    - T: 분  \n",
    "    - H: 시간  \n",
    "    - D: 일(day)  \n",
    "    - B: 주말이 아닌 평일 (Business Day)\n",
    "    - W: 주(일요일)  \n",
    "    - M: 각 달(month)의 마지막 날  \n",
    "    - MS: 각 달의 첫날  \n",
    "\n",
    "[frequency alias](https://pandas.pydata.org/pandas-docs/stable/user_guide/timeseries.html#offset-aliases) 참조"
   ]
  },
  {
   "cell_type": "markdown",
   "id": "9e92386a",
   "metadata": {},
   "source": [
    "start ~ 10일"
   ]
  },
  {
   "cell_type": "code",
   "execution_count": 9,
   "id": "77b2a270",
   "metadata": {},
   "outputs": [
    {
     "data": {
      "text/plain": [
       "DatetimeIndex(['2016-09-01', '2016-09-02', '2016-09-03', '2016-09-04',\n",
       "               '2016-09-05', '2016-09-06', '2016-09-07', '2016-09-08',\n",
       "               '2016-09-09', '2016-09-10'],\n",
       "              dtype='datetime64[ns]', freq='D')"
      ]
     },
     "execution_count": 9,
     "metadata": {},
     "output_type": "execute_result"
    }
   ],
   "source": [
    "# pandas의 date_range 함수는 지정된 시작일로부터 일정 기간동안의 날짜를 생성합니다.\n",
    "# 이 경우 '2016-9-1'을 시작으로 10일간의 날짜를 생성합니다.\n",
    "pd.date_range(start='2016-9-1', periods=10)"
   ]
  },
  {
   "cell_type": "markdown",
   "id": "4d1a2298",
   "metadata": {},
   "source": [
    "start~end 사이 평일"
   ]
  },
  {
   "cell_type": "code",
   "execution_count": 10,
   "id": "748ade18",
   "metadata": {},
   "outputs": [
    {
     "data": {
      "text/plain": [
       "DatetimeIndex(['2019-05-01', '2019-05-02', '2019-05-03', '2019-05-06',\n",
       "               '2019-05-07', '2019-05-08', '2019-05-09', '2019-05-10'],\n",
       "              dtype='datetime64[ns]', freq='B')"
      ]
     },
     "execution_count": 10,
     "metadata": {},
     "output_type": "execute_result"
    }
   ],
   "source": [
    "# pandas의 date_range 함수를 사용하여 '2019-5-1'에서 '2019-5-10'까지의 날짜를 생성합니다.\n",
    "# freq 파라미터를 'B'로 설정하면 주말(토, 일)을 제외한 평일만 생성됩니다.\n",
    "pd.date_range('2019-5-1', '2019-5-10', freq='B')"
   ]
  },
  {
   "cell_type": "markdown",
   "id": "74a35848",
   "metadata": {},
   "source": [
    "start ~ 12 개월"
   ]
  },
  {
   "cell_type": "code",
   "execution_count": 11,
   "id": "26196b05",
   "metadata": {},
   "outputs": [
    {
     "data": {
      "text/plain": [
       "DatetimeIndex(['2019-01-31', '2019-02-28', '2019-03-31', '2019-04-30',\n",
       "               '2019-05-31', '2019-06-30', '2019-07-31', '2019-08-31',\n",
       "               '2019-09-30', '2019-10-31', '2019-11-30', '2019-12-31'],\n",
       "              dtype='datetime64[ns]', freq='M')"
      ]
     },
     "execution_count": 11,
     "metadata": {},
     "output_type": "execute_result"
    }
   ],
   "source": [
    "# pandas의 date_range 함수를 사용하여 '2019-01-01'부터 시작해서 12개월치의 날짜를 생성합니다.\n",
    "# freq 파라미터를 'M'으로 설정하면 월별 마지막 날짜를 생성합니다.\n",
    "dates = pd.date_range('2019-01-01', periods=12, freq='M')\n",
    "dates"
   ]
  },
  {
   "cell_type": "markdown",
   "id": "eec1ba51",
   "metadata": {},
   "source": [
    "DataFrame의 index를 datetime으로 변경"
   ]
  },
  {
   "cell_type": "code",
   "execution_count": 12,
   "id": "80a1f89a",
   "metadata": {},
   "outputs": [
    {
     "data": {
      "text/html": [
       "<div>\n",
       "<style scoped>\n",
       "    .dataframe tbody tr th:only-of-type {\n",
       "        vertical-align: middle;\n",
       "    }\n",
       "\n",
       "    .dataframe tbody tr th {\n",
       "        vertical-align: top;\n",
       "    }\n",
       "\n",
       "    .dataframe thead th {\n",
       "        text-align: right;\n",
       "    }\n",
       "</style>\n",
       "<table border=\"1\" class=\"dataframe\">\n",
       "  <thead>\n",
       "    <tr style=\"text-align: right;\">\n",
       "      <th></th>\n",
       "      <th>n1</th>\n",
       "      <th>n2</th>\n",
       "      <th>n3</th>\n",
       "      <th>n4</th>\n",
       "    </tr>\n",
       "  </thead>\n",
       "  <tbody>\n",
       "    <tr>\n",
       "      <th>2019-01-31</th>\n",
       "      <td>0.352280</td>\n",
       "      <td>-0.252613</td>\n",
       "      <td>0.406061</td>\n",
       "      <td>1.377921</td>\n",
       "    </tr>\n",
       "    <tr>\n",
       "      <th>2019-02-28</th>\n",
       "      <td>-0.577854</td>\n",
       "      <td>-0.591163</td>\n",
       "      <td>-1.019310</td>\n",
       "      <td>1.036229</td>\n",
       "    </tr>\n",
       "    <tr>\n",
       "      <th>2019-03-31</th>\n",
       "      <td>0.870836</td>\n",
       "      <td>-0.030736</td>\n",
       "      <td>0.727915</td>\n",
       "      <td>1.224150</td>\n",
       "    </tr>\n",
       "    <tr>\n",
       "      <th>2019-04-30</th>\n",
       "      <td>-0.490057</td>\n",
       "      <td>-0.046894</td>\n",
       "      <td>0.259578</td>\n",
       "      <td>0.034902</td>\n",
       "    </tr>\n",
       "    <tr>\n",
       "      <th>2019-05-31</th>\n",
       "      <td>-0.727502</td>\n",
       "      <td>-1.079100</td>\n",
       "      <td>-1.317819</td>\n",
       "      <td>1.309485</td>\n",
       "    </tr>\n",
       "  </tbody>\n",
       "</table>\n",
       "</div>"
      ],
      "text/plain": [
       "                  n1        n2        n3        n4\n",
       "2019-01-31  0.352280 -0.252613  0.406061  1.377921\n",
       "2019-02-28 -0.577854 -0.591163 -1.019310  1.036229\n",
       "2019-03-31  0.870836 -0.030736  0.727915  1.224150\n",
       "2019-04-30 -0.490057 -0.046894  0.259578  0.034902\n",
       "2019-05-31 -0.727502 -1.079100 -1.317819  1.309485"
      ]
     },
     "execution_count": 12,
     "metadata": {},
     "output_type": "execute_result"
    }
   ],
   "source": [
    "# numpy의 random.standard_normal 함수를 사용하여 평균이 0이고 표준편차가 1인 표준 정규분포에서 랜덤하게 수를 생성합니다.\n",
    "# 이 때, (12, 4)는 생성할 배열의 형태를 의미하므로, 12x4 크기의 2차원 배열을 생성합니다.\n",
    "a = np.random.standard_normal((12, 4))\n",
    "\n",
    "# 생성한 랜덤 수 배열을 pandas DataFrame으로 변환합니다. 각 컬럼의 이름은 'n1', 'n2', 'n3', 'n4'로 설정합니다.\n",
    "df = pd.DataFrame(a, columns=['n1', 'n2', 'n3', 'n4'])\n",
    "\n",
    "# DataFrame의 인덱스를 앞서 생성한 dates로 설정합니다. 이 때, dates는 월별 마지막 날짜 12개를 가진 DatetimeIndex입니다.\n",
    "df.index = dates\n",
    "\n",
    "df.head()"
   ]
  },
  {
   "cell_type": "code",
   "execution_count": 13,
   "id": "38561565",
   "metadata": {},
   "outputs": [
    {
     "data": {
      "text/plain": [
       "DatetimeIndex(['2019-01-31', '2019-02-28', '2019-03-31', '2019-04-30',\n",
       "               '2019-05-31', '2019-06-30', '2019-07-31', '2019-08-31',\n",
       "               '2019-09-30', '2019-10-31', '2019-11-30', '2019-12-31'],\n",
       "              dtype='datetime64[ns]', freq='M')"
      ]
     },
     "execution_count": 13,
     "metadata": {},
     "output_type": "execute_result"
    }
   ],
   "source": [
    "df.index"
   ]
  },
  {
   "cell_type": "markdown",
   "id": "d443bd2c",
   "metadata": {},
   "source": [
    "## Pandas DatetimeIndex를 이용한 작업"
   ]
  },
  {
   "cell_type": "code",
   "execution_count": 13,
   "id": "f3aff163",
   "metadata": {},
   "outputs": [
    {
     "data": {
      "text/html": [
       "<div>\n",
       "<style scoped>\n",
       "    .dataframe tbody tr th:only-of-type {\n",
       "        vertical-align: middle;\n",
       "    }\n",
       "\n",
       "    .dataframe tbody tr th {\n",
       "        vertical-align: top;\n",
       "    }\n",
       "\n",
       "    .dataframe thead th {\n",
       "        text-align: right;\n",
       "    }\n",
       "</style>\n",
       "<table border=\"1\" class=\"dataframe\">\n",
       "  <thead>\n",
       "    <tr style=\"text-align: right;\">\n",
       "      <th></th>\n",
       "      <th>date</th>\n",
       "      <th>a</th>\n",
       "    </tr>\n",
       "  </thead>\n",
       "  <tbody>\n",
       "    <tr>\n",
       "      <th>0</th>\n",
       "      <td>2020-08-31</td>\n",
       "      <td>-0.924636</td>\n",
       "    </tr>\n",
       "    <tr>\n",
       "      <th>1</th>\n",
       "      <td>2020-09-30</td>\n",
       "      <td>1.745207</td>\n",
       "    </tr>\n",
       "    <tr>\n",
       "      <th>2</th>\n",
       "      <td>2020-10-31</td>\n",
       "      <td>0.225221</td>\n",
       "    </tr>\n",
       "    <tr>\n",
       "      <th>3</th>\n",
       "      <td>2020-11-30</td>\n",
       "      <td>-0.899186</td>\n",
       "    </tr>\n",
       "    <tr>\n",
       "      <th>4</th>\n",
       "      <td>2020-12-31</td>\n",
       "      <td>0.943344</td>\n",
       "    </tr>\n",
       "    <tr>\n",
       "      <th>5</th>\n",
       "      <td>2021-01-31</td>\n",
       "      <td>0.936117</td>\n",
       "    </tr>\n",
       "    <tr>\n",
       "      <th>6</th>\n",
       "      <td>2021-02-28</td>\n",
       "      <td>-2.032568</td>\n",
       "    </tr>\n",
       "    <tr>\n",
       "      <th>7</th>\n",
       "      <td>2021-03-31</td>\n",
       "      <td>-0.911356</td>\n",
       "    </tr>\n",
       "    <tr>\n",
       "      <th>8</th>\n",
       "      <td>2021-04-30</td>\n",
       "      <td>-2.433767</td>\n",
       "    </tr>\n",
       "    <tr>\n",
       "      <th>9</th>\n",
       "      <td>2021-05-31</td>\n",
       "      <td>-0.025333</td>\n",
       "    </tr>\n",
       "    <tr>\n",
       "      <th>10</th>\n",
       "      <td>2021-06-30</td>\n",
       "      <td>0.271672</td>\n",
       "    </tr>\n",
       "    <tr>\n",
       "      <th>11</th>\n",
       "      <td>2021-07-31</td>\n",
       "      <td>-1.058396</td>\n",
       "    </tr>\n",
       "  </tbody>\n",
       "</table>\n",
       "</div>"
      ],
      "text/plain": [
       "         date         a\n",
       "0  2020-08-31 -0.924636\n",
       "1  2020-09-30  1.745207\n",
       "2  2020-10-31  0.225221\n",
       "3  2020-11-30 -0.899186\n",
       "4  2020-12-31  0.943344\n",
       "5  2021-01-31  0.936117\n",
       "6  2021-02-28 -2.032568\n",
       "7  2021-03-31 -0.911356\n",
       "8  2021-04-30 -2.433767\n",
       "9  2021-05-31 -0.025333\n",
       "10 2021-06-30  0.271672\n",
       "11 2021-07-31 -1.058396"
      ]
     },
     "execution_count": 13,
     "metadata": {},
     "output_type": "execute_result"
    }
   ],
   "source": [
    "# pandas의 date_range 함수를 사용해 2020년 8월 1일부터 2021년 8월 1일까지 월별로 날짜를 생성합니다. \n",
    "# 이때 freq='M'은 월별로 날짜를 생성하겠다는 의미입니다.\n",
    "dates = pd.date_range('2020-08-01', '2021-08-01', freq='M')\n",
    "\n",
    "# numpy의 random.randn 함수를 사용해 평균 0, 표준편차 1의 표준정규분포에서 랜덤한 수 12개를 생성합니다.\n",
    "a = np.random.randn(12)\n",
    "\n",
    "# 생성한 날짜와 랜덤 수를 이용해 pandas DataFrame을 생성합니다.\n",
    "# 이때 'date', 'a'는 각각 컬럼의 이름입니다.\n",
    "df = pd.DataFrame({'date': dates, 'a': a})\n",
    "\n",
    "df"
   ]
  },
  {
   "cell_type": "markdown",
   "id": "b7188f70",
   "metadata": {},
   "source": [
    "기존의  numpy datetime64 format 변수를 사용하여 인덱스 설정"
   ]
  },
  {
   "cell_type": "code",
   "execution_count": 15,
   "id": "e459f549",
   "metadata": {},
   "outputs": [
    {
     "data": {
      "text/html": [
       "<div>\n",
       "<style scoped>\n",
       "    .dataframe tbody tr th:only-of-type {\n",
       "        vertical-align: middle;\n",
       "    }\n",
       "\n",
       "    .dataframe tbody tr th {\n",
       "        vertical-align: top;\n",
       "    }\n",
       "\n",
       "    .dataframe thead th {\n",
       "        text-align: right;\n",
       "    }\n",
       "</style>\n",
       "<table border=\"1\" class=\"dataframe\">\n",
       "  <thead>\n",
       "    <tr style=\"text-align: right;\">\n",
       "      <th></th>\n",
       "      <th>a</th>\n",
       "    </tr>\n",
       "    <tr>\n",
       "      <th>date</th>\n",
       "      <th></th>\n",
       "    </tr>\n",
       "  </thead>\n",
       "  <tbody>\n",
       "    <tr>\n",
       "      <th>2020-08-31</th>\n",
       "      <td>1.494499</td>\n",
       "    </tr>\n",
       "    <tr>\n",
       "      <th>2020-09-30</th>\n",
       "      <td>0.125539</td>\n",
       "    </tr>\n",
       "    <tr>\n",
       "      <th>2020-10-31</th>\n",
       "      <td>0.194925</td>\n",
       "    </tr>\n",
       "    <tr>\n",
       "      <th>2020-11-30</th>\n",
       "      <td>-0.741537</td>\n",
       "    </tr>\n",
       "    <tr>\n",
       "      <th>2020-12-31</th>\n",
       "      <td>1.154009</td>\n",
       "    </tr>\n",
       "    <tr>\n",
       "      <th>2021-01-31</th>\n",
       "      <td>1.610528</td>\n",
       "    </tr>\n",
       "    <tr>\n",
       "      <th>2021-02-28</th>\n",
       "      <td>0.233175</td>\n",
       "    </tr>\n",
       "    <tr>\n",
       "      <th>2021-03-31</th>\n",
       "      <td>-0.035099</td>\n",
       "    </tr>\n",
       "    <tr>\n",
       "      <th>2021-04-30</th>\n",
       "      <td>0.169437</td>\n",
       "    </tr>\n",
       "    <tr>\n",
       "      <th>2021-05-31</th>\n",
       "      <td>0.841135</td>\n",
       "    </tr>\n",
       "    <tr>\n",
       "      <th>2021-06-30</th>\n",
       "      <td>-0.733517</td>\n",
       "    </tr>\n",
       "    <tr>\n",
       "      <th>2021-07-31</th>\n",
       "      <td>0.420519</td>\n",
       "    </tr>\n",
       "  </tbody>\n",
       "</table>\n",
       "</div>"
      ],
      "text/plain": [
       "                   a\n",
       "date                \n",
       "2020-08-31  1.494499\n",
       "2020-09-30  0.125539\n",
       "2020-10-31  0.194925\n",
       "2020-11-30 -0.741537\n",
       "2020-12-31  1.154009\n",
       "2021-01-31  1.610528\n",
       "2021-02-28  0.233175\n",
       "2021-03-31 -0.035099\n",
       "2021-04-30  0.169437\n",
       "2021-05-31  0.841135\n",
       "2021-06-30 -0.733517\n",
       "2021-07-31  0.420519"
      ]
     },
     "execution_count": 15,
     "metadata": {},
     "output_type": "execute_result"
    }
   ],
   "source": [
    "df.set_index('date', inplace=True)\n",
    "df"
   ]
  },
  {
   "cell_type": "code",
   "execution_count": 16,
   "id": "1aad5162",
   "metadata": {},
   "outputs": [
    {
     "data": {
      "text/plain": [
       "DatetimeIndex(['2020-08-31', '2020-09-30', '2020-10-31', '2020-11-30',\n",
       "               '2020-12-31', '2021-01-31', '2021-02-28', '2021-03-31',\n",
       "               '2021-04-30', '2021-05-31', '2021-06-30', '2021-07-31'],\n",
       "              dtype='datetime64[ns]', name='date', freq=None)"
      ]
     },
     "execution_count": 16,
     "metadata": {},
     "output_type": "execute_result"
    }
   ],
   "source": [
    "df.index"
   ]
  },
  {
   "cell_type": "markdown",
   "id": "8ebe9682",
   "metadata": {},
   "source": [
    "### Subsetting data\n",
    "\n",
    "이제 DatetimeIndex를 사용하여 데이터 하위 집합을 선택할 수 있습니다."
   ]
  },
  {
   "cell_type": "code",
   "execution_count": 17,
   "id": "9720df4b",
   "metadata": {},
   "outputs": [
    {
     "data": {
      "text/html": [
       "<div>\n",
       "<style scoped>\n",
       "    .dataframe tbody tr th:only-of-type {\n",
       "        vertical-align: middle;\n",
       "    }\n",
       "\n",
       "    .dataframe tbody tr th {\n",
       "        vertical-align: top;\n",
       "    }\n",
       "\n",
       "    .dataframe thead th {\n",
       "        text-align: right;\n",
       "    }\n",
       "</style>\n",
       "<table border=\"1\" class=\"dataframe\">\n",
       "  <thead>\n",
       "    <tr style=\"text-align: right;\">\n",
       "      <th></th>\n",
       "      <th>a</th>\n",
       "    </tr>\n",
       "    <tr>\n",
       "      <th>date</th>\n",
       "      <th></th>\n",
       "    </tr>\n",
       "  </thead>\n",
       "  <tbody>\n",
       "    <tr>\n",
       "      <th>2020-08-31</th>\n",
       "      <td>1.494499</td>\n",
       "    </tr>\n",
       "    <tr>\n",
       "      <th>2020-09-30</th>\n",
       "      <td>0.125539</td>\n",
       "    </tr>\n",
       "    <tr>\n",
       "      <th>2020-10-31</th>\n",
       "      <td>0.194925</td>\n",
       "    </tr>\n",
       "    <tr>\n",
       "      <th>2020-11-30</th>\n",
       "      <td>-0.741537</td>\n",
       "    </tr>\n",
       "    <tr>\n",
       "      <th>2020-12-31</th>\n",
       "      <td>1.154009</td>\n",
       "    </tr>\n",
       "  </tbody>\n",
       "</table>\n",
       "</div>"
      ],
      "text/plain": [
       "                   a\n",
       "date                \n",
       "2020-08-31  1.494499\n",
       "2020-09-30  0.125539\n",
       "2020-10-31  0.194925\n",
       "2020-11-30 -0.741537\n",
       "2020-12-31  1.154009"
      ]
     },
     "execution_count": 17,
     "metadata": {},
     "output_type": "execute_result"
    }
   ],
   "source": [
    "df.loc['2020']"
   ]
  },
  {
   "cell_type": "code",
   "execution_count": 18,
   "id": "0794f171",
   "metadata": {},
   "outputs": [
    {
     "data": {
      "text/html": [
       "<div>\n",
       "<style scoped>\n",
       "    .dataframe tbody tr th:only-of-type {\n",
       "        vertical-align: middle;\n",
       "    }\n",
       "\n",
       "    .dataframe tbody tr th {\n",
       "        vertical-align: top;\n",
       "    }\n",
       "\n",
       "    .dataframe thead th {\n",
       "        text-align: right;\n",
       "    }\n",
       "</style>\n",
       "<table border=\"1\" class=\"dataframe\">\n",
       "  <thead>\n",
       "    <tr style=\"text-align: right;\">\n",
       "      <th></th>\n",
       "      <th>a</th>\n",
       "    </tr>\n",
       "    <tr>\n",
       "      <th>date</th>\n",
       "      <th></th>\n",
       "    </tr>\n",
       "  </thead>\n",
       "  <tbody>\n",
       "    <tr>\n",
       "      <th>2020-08-31</th>\n",
       "      <td>1.494499</td>\n",
       "    </tr>\n",
       "    <tr>\n",
       "      <th>2020-09-30</th>\n",
       "      <td>0.125539</td>\n",
       "    </tr>\n",
       "    <tr>\n",
       "      <th>2020-10-31</th>\n",
       "      <td>0.194925</td>\n",
       "    </tr>\n",
       "    <tr>\n",
       "      <th>2020-11-30</th>\n",
       "      <td>-0.741537</td>\n",
       "    </tr>\n",
       "    <tr>\n",
       "      <th>2020-12-31</th>\n",
       "      <td>1.154009</td>\n",
       "    </tr>\n",
       "  </tbody>\n",
       "</table>\n",
       "</div>"
      ],
      "text/plain": [
       "                   a\n",
       "date                \n",
       "2020-08-31  1.494499\n",
       "2020-09-30  0.125539\n",
       "2020-10-31  0.194925\n",
       "2020-11-30 -0.741537\n",
       "2020-12-31  1.154009"
      ]
     },
     "execution_count": 18,
     "metadata": {},
     "output_type": "execute_result"
    }
   ],
   "source": [
    "df['2020-08': '2020-12']"
   ]
  },
  {
   "cell_type": "markdown",
   "id": "49d54bbd",
   "metadata": {},
   "source": [
    "### Datetime Components\n",
    "\n",
    "Pandas Datetime 변수에는 여러 가지 유용한 구성 요소가 있습니다. DatetimeIndex를 사용하여 월, 연도, 요일, 분기 등과 같은 항목을 추출할 수 있습니다."
   ]
  },
  {
   "cell_type": "markdown",
   "id": "aac59d3e",
   "metadata": {},
   "source": [
    "DatetimeIndex에서 date 추출"
   ]
  },
  {
   "cell_type": "code",
   "execution_count": 19,
   "id": "77e60dd9",
   "metadata": {},
   "outputs": [
    {
     "data": {
      "text/plain": [
       "Int64Index([31, 30, 31, 30, 31, 31, 28, 31, 30, 31, 30, 31], dtype='int64', name='date')"
      ]
     },
     "execution_count": 19,
     "metadata": {},
     "output_type": "execute_result"
    }
   ],
   "source": [
    "df.index.day"
   ]
  },
  {
   "cell_type": "markdown",
   "id": "f01a84d5",
   "metadata": {},
   "source": [
    "- DatetimeIndex에서 day of week 추출 (Day of Week: Monday=0, Sunday=6)"
   ]
  },
  {
   "cell_type": "code",
   "execution_count": 20,
   "id": "4e44a9bf",
   "metadata": {},
   "outputs": [
    {
     "data": {
      "text/plain": [
       "Int64Index([0, 2, 5, 0, 3, 6, 6, 2, 4, 0, 2, 5], dtype='int64', name='date')"
      ]
     },
     "execution_count": 20,
     "metadata": {},
     "output_type": "execute_result"
    }
   ],
   "source": [
    "df.index.dayofweek   "
   ]
  },
  {
   "cell_type": "code",
   "execution_count": 21,
   "id": "59bcad1e",
   "metadata": {},
   "outputs": [
    {
     "data": {
      "text/html": [
       "<div>\n",
       "<style scoped>\n",
       "    .dataframe tbody tr th:only-of-type {\n",
       "        vertical-align: middle;\n",
       "    }\n",
       "\n",
       "    .dataframe tbody tr th {\n",
       "        vertical-align: top;\n",
       "    }\n",
       "\n",
       "    .dataframe thead th {\n",
       "        text-align: right;\n",
       "    }\n",
       "</style>\n",
       "<table border=\"1\" class=\"dataframe\">\n",
       "  <thead>\n",
       "    <tr style=\"text-align: right;\">\n",
       "      <th></th>\n",
       "      <th>a</th>\n",
       "      <th>DayofWeek</th>\n",
       "    </tr>\n",
       "    <tr>\n",
       "      <th>date</th>\n",
       "      <th></th>\n",
       "      <th></th>\n",
       "    </tr>\n",
       "  </thead>\n",
       "  <tbody>\n",
       "    <tr>\n",
       "      <th>2020-08-31</th>\n",
       "      <td>1.494499</td>\n",
       "      <td>0</td>\n",
       "    </tr>\n",
       "    <tr>\n",
       "      <th>2020-09-30</th>\n",
       "      <td>0.125539</td>\n",
       "      <td>2</td>\n",
       "    </tr>\n",
       "    <tr>\n",
       "      <th>2020-10-31</th>\n",
       "      <td>0.194925</td>\n",
       "      <td>5</td>\n",
       "    </tr>\n",
       "    <tr>\n",
       "      <th>2020-11-30</th>\n",
       "      <td>-0.741537</td>\n",
       "      <td>0</td>\n",
       "    </tr>\n",
       "    <tr>\n",
       "      <th>2020-12-31</th>\n",
       "      <td>1.154009</td>\n",
       "      <td>3</td>\n",
       "    </tr>\n",
       "  </tbody>\n",
       "</table>\n",
       "</div>"
      ],
      "text/plain": [
       "                   a  DayofWeek\n",
       "date                           \n",
       "2020-08-31  1.494499          0\n",
       "2020-09-30  0.125539          2\n",
       "2020-10-31  0.194925          5\n",
       "2020-11-30 -0.741537          0\n",
       "2020-12-31  1.154009          3"
      ]
     },
     "execution_count": 21,
     "metadata": {},
     "output_type": "execute_result"
    }
   ],
   "source": [
    "df['DayofWeek'] = df.index.dayofweek\n",
    "df.head()"
   ]
  },
  {
   "cell_type": "markdown",
   "id": "a470f25d",
   "metadata": {},
   "source": [
    "## resample\n",
    "\n",
    "- 시간 간격을 재조정   \n",
    "- 원래의 데이터가 그룹으로 묶이기 때문에 그룹 연산을 해서 대표값을 구해야 한다."
   ]
  },
  {
   "cell_type": "code",
   "execution_count": 14,
   "id": "47ea6d61",
   "metadata": {},
   "outputs": [
    {
     "data": {
      "text/plain": [
       "2018-01-31    0.311552\n",
       "2018-02-28   -0.705682\n",
       "2018-03-31   -1.379482\n",
       "2018-04-30    0.566634\n",
       "2018-05-31    1.557457\n",
       "Freq: M, dtype: float64"
      ]
     },
     "execution_count": 14,
     "metadata": {},
     "output_type": "execute_result"
    }
   ],
   "source": [
    "# numpy의 random.randn 함수를 사용해 평균 0, 표준편차 1의 표준정규분포에서 랜덤한 수 100개를 생성합니다.\n",
    "# pandas의 date_range 함수를 사용해 2018년 1월 1일부터 월별로 100개의 날짜를 생성합니다.\n",
    "# 생성한 랜덤한 수와 날짜를 이용해 pandas Series를 생성합니다.\n",
    "ts = pd.Series(np.random.randn(100), \n",
    "               index=pd.date_range(\"2018-1-1\", periods=100, freq=\"M\"))\n",
    "\n",
    "# 생성한 Series의 앞에서부터 5개의 데이터를 출력합니다.\n",
    "ts.head()"
   ]
  },
  {
   "cell_type": "markdown",
   "id": "91e34d44",
   "metadata": {},
   "source": [
    "주 단위로 down-sampling"
   ]
  },
  {
   "cell_type": "code",
   "execution_count": 23,
   "id": "d432fd50",
   "metadata": {},
   "outputs": [
    {
     "data": {
      "text/plain": [
       "<pandas.core.resample.DatetimeIndexResampler object at 0x00000173E3700CD0>"
      ]
     },
     "execution_count": 23,
     "metadata": {},
     "output_type": "execute_result"
    }
   ],
   "source": [
    "ts.resample('W')"
   ]
  },
  {
   "cell_type": "markdown",
   "id": "0c6b2ef4",
   "metadata": {},
   "source": [
    "주 단위 평균"
   ]
  },
  {
   "cell_type": "code",
   "execution_count": 24,
   "id": "b26652a0",
   "metadata": {},
   "outputs": [
    {
     "data": {
      "text/plain": [
       "2018-02-04   -0.364063\n",
       "2018-02-11         NaN\n",
       "2018-02-18         NaN\n",
       "2018-02-25         NaN\n",
       "2018-03-04    1.548387\n",
       "                ...   \n",
       "2026-04-05    0.396765\n",
       "2026-04-12         NaN\n",
       "2026-04-19         NaN\n",
       "2026-04-26         NaN\n",
       "2026-05-03   -0.188918\n",
       "Freq: W-SUN, Length: 431, dtype: float64"
      ]
     },
     "execution_count": 24,
     "metadata": {},
     "output_type": "execute_result"
    }
   ],
   "source": [
    "ts.resample('W').mean()  "
   ]
  },
  {
   "cell_type": "markdown",
   "id": "cc2e37ad",
   "metadata": {},
   "source": [
    "월 단위 평균"
   ]
  },
  {
   "cell_type": "code",
   "execution_count": 25,
   "id": "e25b6ab7",
   "metadata": {},
   "outputs": [
    {
     "data": {
      "text/plain": [
       "2018-01-31   -0.364063\n",
       "2018-02-28    1.548387\n",
       "2018-03-31   -1.247318\n",
       "2018-04-30    0.534197\n",
       "2018-05-31    0.705111\n",
       "                ...   \n",
       "2025-12-31    1.124854\n",
       "2026-01-31   -1.243231\n",
       "2026-02-28    0.650264\n",
       "2026-03-31    0.396765\n",
       "2026-04-30   -0.188918\n",
       "Freq: M, Length: 100, dtype: float64"
      ]
     },
     "execution_count": 25,
     "metadata": {},
     "output_type": "execute_result"
    }
   ],
   "source": [
    "ts.resample('M').mean() "
   ]
  },
  {
   "cell_type": "code",
   "execution_count": null,
   "id": "2f4080d8",
   "metadata": {},
   "outputs": [],
   "source": []
  }
 ],
 "metadata": {
  "kernelspec": {
   "display_name": "Python 3 (ipykernel)",
   "language": "python",
   "name": "python3"
  },
  "language_info": {
   "codemirror_mode": {
    "name": "ipython",
    "version": 3
   },
   "file_extension": ".py",
   "mimetype": "text/x-python",
   "name": "python",
   "nbconvert_exporter": "python",
   "pygments_lexer": "ipython3",
   "version": "3.9.16"
  }
 },
 "nbformat": 4,
 "nbformat_minor": 5
}
