{
 "cells": [
  {
   "cell_type": "markdown",
   "metadata": {},
   "source": [
    "# 주식시장 분석 \n",
    "\n",
    "- 2012-1-1 ~ 2021-12-31 기간의 Tesla, FORD, Apple 의 주가 등락, 변동성, 수익률 비교  \n"
   ]
  },
  {
   "cell_type": "markdown",
   "metadata": {},
   "source": [
    "## yfinance 를 이용한 주가 data 가져오기"
   ]
  },
  {
   "cell_type": "markdown",
   "metadata": {},
   "source": [
    "## 주가 추이 시각화"
   ]
  },
  {
   "cell_type": "markdown",
   "metadata": {},
   "source": [
    "**최대 거래량 발생 일자**"
   ]
  },
  {
   "cell_type": "markdown",
   "metadata": {},
   "source": [
    "## Log Close Price\n",
    "- 서로 scale 이 다른 주가에 대한 실제 변화율을 시각화 하기 위해 price 의 log 를 취함"
   ]
  },
  {
   "cell_type": "markdown",
   "metadata": {},
   "source": [
    "## Normalized Price\n",
    "\n",
    "- 시초가를 1 로 맞추어 놓고 변화된 상대 가격 비교"
   ]
  },
  {
   "cell_type": "markdown",
   "metadata": {},
   "source": [
    "## 주식 종목간의 correlation 분석\n",
    "\n",
    "- Tesla 주식이  Apple 과 관련 있는지, GM 과 관련 있는지 분석"
   ]
  },
  {
   "cell_type": "markdown",
   "metadata": {},
   "source": [
    "## 일일 수익율 (Daily Percentage Change)\n",
    "\n",
    "- 주식을 구입하고 다음 날 팔았을 때의 이득 (손실)\n",
    "\n",
    "- 주식의 변동성 분석에 유용\n",
    "\n",
    "- 일일 수익율의 분포가 넓으면 변동성 큼\n",
    "\n",
    "$r_t = \\frac{P_t}{P_{t-1}} - 1$ \n",
    "\n",
    "$수익(율) = \\frac{당일가격}{전일가격} - 1$\n",
    "\n",
    "```\n",
    "tesla['return'] = tesla['Close'] / tesla['Close'].shift(1) - 1\n",
    "tesla['return'] = tesla['Close'].pct_change(1)  \n",
    "```\n",
    "\n",
    "- histogram 으로 얼마나 넓게 분포하는지 check"
   ]
  },
  {
   "cell_type": "markdown",
   "metadata": {},
   "source": [
    "히스토그램은 데이터의 분포를 직관적으로 보여주며, 데이터가 특정 범위에 얼마나 자주 나타나는지를 막대의 높이로 나타냅니다. "
   ]
  },
  {
   "cell_type": "markdown",
   "metadata": {},
   "source": [
    "KDE는 데이터 포인트 주변에 커널(보통 가우시안 커널)을 놓고, 이를 모두 합하여 연속적인 확률 밀도 함수를 추정합니다. 히스토그램보다 더 매끄럽고 연속적인 분포를 보여줍니다.  \n",
    "히스토그램은 실제 데이터의 빈도를 정확하게 보여주지만, 빈(bin)의 크기와 위치에 따라 모양이 크게 달라질 수 있습니다.\r\n",
    "KDE는 히스토그램의 단점을 극복하고 데이터의 분포를 더 부드럽게 표현하지만, 그 추정은 커널의 대역폭 선택에 민감할 수 있습니다."
   ]
  },
  {
   "cell_type": "markdown",
   "metadata": {},
   "source": [
    "boxplot은 분포의 중앙값, 사분위값, 이상치 등을 간결하게 요약하여 보여줍니다. 전체 분포보다는 분포의 중심 경향성과 변동성에 초점을 맞춥니다."
   ]
  },
  {
   "cell_type": "markdown",
   "metadata": {},
   "source": [
    "## 누적일일수익률 (Cumulative Daily Returns)\n",
    "\n",
    "- 1 불을 투자했을 때 누적적으로 가장 수익이 많이 났을 주식 파악\n",
    "\n",
    "$i_t = (1+r_t) * i_{t-1}$  \n",
    "\n",
    "\n",
    "$누적수익률 = (1 + 당일수익률) * 전일자 누적수익률$"
   ]
  },
  {
   "cell_type": "markdown",
   "metadata": {},
   "source": [
    "iloc[0]은 DataFrame의 첫 번째 행, -1은 마지막 행. 따라서, tesla.iloc[[0, -1]]는 tesla DataFrame의 첫 번째 행과 마지막 행을 선택하여 반환합니다. "
   ]
  }
 ],
 "metadata": {
  "kernelspec": {
   "display_name": "Python 3 (ipykernel)",
   "language": "python",
   "name": "python3"
  },
  "language_info": {
   "codemirror_mode": {
    "name": "ipython",
    "version": 3
   },
   "file_extension": ".py",
   "mimetype": "text/x-python",
   "name": "python",
   "nbconvert_exporter": "python",
   "pygments_lexer": "ipython3",
   "version": "3.9.16"
  }
 },
 "nbformat": 4,
 "nbformat_minor": 4
}
