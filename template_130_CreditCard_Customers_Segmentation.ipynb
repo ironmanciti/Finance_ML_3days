{
 "cells": [
  {
   "cell_type": "markdown",
   "metadata": {},
   "source": [
    "# 신용카드 고객 Segmentation \n",
    "- Machine Learning을 이용한 신용카드 고객 clustering   \n",
    "\n",
    "\n",
    "- Data Source: https://www.kaggle.com/arjunbhasin2013/ccdata  \n",
    "\n",
    "\n",
    "- CUSTID: 신용카드 소지자 ID  \n",
    "- BALANCE: 구매를 위해 고객 계정에 남아 있는 잔액  \n",
    "- BALANCE_FREQUENCY: 잔액이 업데이트되는 빈도, 0에서 1 사이의 점수(1 = 자주 업데이트, 0 = 자주 업데이트되지 않음)  \n",
    "- PURCHASES: 계정에서 구매한 금액  \n",
    "- ONEOFFPURCHASES: 한 번에 완료되는 최대 구매 금액  \n",
    "- INSTALLMENTS_PURCHASES: 할부 금액  \n",
    "- CASH_ADVANCE: 현금서비스  \n",
    "- PURCHASES_FREQUENCY: 구매 빈도, 0에서 1 사이의 점수(1 = 자주 구매, 0 = 자주 구매하지 않음)  \n",
    "- ONEOFF_PURCHASES_FREQUENCY:한 번에 구매하는 빈도(1 = 자주 구매, 0 = 자주 구매하지 않음)  \n",
    "- PURCHASES_INSTALLMENTS_FREQUENCY: 설치 시 구매가 수행되는 빈도(1 = 자주 수행, 0 = 자주 수행하지 않음)  \n",
    "- CASH_ADVANCE_FREQUENCY: 현금 선지급 빈도  \n",
    "- CASH_ADVANCE_TRX: \"선불\" 거래 건수  \n",
    "- PURCHASES_TRX: 구매한 거래 수  \n",
    "- CREDIT_LIMIT: 사용자 신용카드 한도  \n",
    "- PAYMENTS: 사용자가 지불한 금액  \n",
    "- MINIMUM_PAYMENTS: 사용자가 지불하는 최소 금액  \n",
    "- PRC_FULL_PAYMENT: 사용자가 지불한 전체 결제 비율  \n",
    "- TENURE: 이용자의 신용카드 서비스 이용기간"
   ]
  },
  {
   "cell_type": "markdown",
   "metadata": {},
   "source": [
    "기술 통계 파악"
   ]
  },
  {
   "cell_type": "markdown",
   "metadata": {},
   "source": [
    "- ONEOFF_PURCHASES 최대 구매 (40761.25)를 한 고객"
   ]
  },
  {
   "cell_type": "markdown",
   "metadata": {},
   "source": [
    "missing value check"
   ]
  },
  {
   "cell_type": "markdown",
   "metadata": {},
   "source": [
    "- `MINIMUM_PAYMENT`의 평균으로 missing value를 보충합니다."
   ]
  },
  {
   "cell_type": "markdown",
   "metadata": {},
   "source": [
    "- 누락된 요소를 `CREDIT_LIMIT`의 평균으로 보충합니다."
   ]
  },
  {
   "cell_type": "markdown",
   "metadata": {},
   "source": [
    "- 데이터에 중복된 항목이 있는지 봅니다."
   ]
  },
  {
   "cell_type": "markdown",
   "metadata": {},
   "source": [
    "- Customer ID는여기서 의미가 없으므로 drop 시킵니다."
   ]
  },
  {
   "cell_type": "markdown",
   "metadata": {
    "id": "QRSLmofOqJ2X"
   },
   "source": [
    "## K-MEANS clustering model 작성"
   ]
  },
  {
   "cell_type": "markdown",
   "metadata": {
    "id": "Y0GmpAjG3GiH"
   },
   "source": [
    "### ELBOW 방법을 사용하여 최적의 클러스터 수 찾기\n",
    "\n",
    "- 엘보우 방법은 데이터 세트에서 적절한 클러스터 수를 찾는 데 도움이 되도록 설계된 휴리스틱 방법입니다.  \n",
    "- 꺾은선형 차트가 팔처럼 보이면 팔의 \"elbow\"에 해당하는 k 값이 가장 좋습니다.  이 지점에서 이전에 비해 클러스터 내부의 데이터들이 더 이상 크게 뭉치지 않기 때문입니다.\n",
    "- inertia_ 속성 : 가장 가까운 클러스터 중심까지의 샘플 거리의 제곱 합계. 클러스터 내부의 데이터들이 얼마나 뭉쳐있는지를 나타내는 값이므로, 값이 작을수록 클러스터가 잘 형성되었다고 볼 수 있습니다."
   ]
  },
  {
   "cell_type": "markdown",
   "metadata": {},
   "source": [
    "- data scaling"
   ]
  },
  {
   "cell_type": "markdown",
   "metadata": {
    "id": "m_jo7mJ4C8R9"
   },
   "source": [
    "### K-MEANS METHOD 적용\n",
    "\n",
    "- cluster 갯수를 8로 결정"
   ]
  },
  {
   "cell_type": "markdown",
   "metadata": {},
   "source": [
    "클러스터의 중심점을 데이터프레임 형태로 변환합니다.   \n",
    "이 데이터프레임은 각 클러스터의 중심점을 나타내는 값들을 포함하며, 각 열의 이름은 원본 데이터프레임(df)의 열 이름을 사용합니다."
   ]
  },
  {
   "cell_type": "markdown",
   "metadata": {},
   "source": [
    "- 각 value 는 scaling이 되어 있는 상태이므로 inverse transform을 통해 원래의 값으로 복원하면 각 cluster 의 의미 파악에 도움이 됩니다."
   ]
  },
  {
   "cell_type": "markdown",
   "metadata": {},
   "source": [
    "### 각 datapoint가 어떤 cluster에 속하는지 label 부여\n",
    "- `fit_predict` 메소드는 각 데이터 포인트가 속하는 클러스터의 인덱스를 배열로 반환합니다. 이 배열에서 각 값은 해당 데이터 포인트가 속한 클러스터를 나타냅니다."
   ]
  },
  {
   "cell_type": "markdown",
   "metadata": {},
   "source": [
    "원본 데이터프레임(df)와 클러스터 할당 정보(y_kmeans) 및 고객 ID(cust_id)를 포함하는 새로운 데이터프레임을 결합하여 df_cluster라는 새로운 데이터프레임을 생성합니다.  \n",
    "이를 통해 각 고객이 어떤 클러스터에 속하는지를 확인할 수 있습니다."
   ]
  },
  {
   "cell_type": "markdown",
   "metadata": {
    "id": "UVTd7FYLNCAE"
   },
   "source": [
    "## Clustering한 결과를 2차원으로 시각화 하기 위해 PCA 방법 적용"
   ]
  },
  {
   "cell_type": "markdown",
   "metadata": {},
   "source": [
    "- 클러스터 레이블을 데이터 프레임에 연결"
   ]
  },
  {
   "cell_type": "markdown",
   "metadata": {},
   "source": [
    "### PCA 축소 결과와 클러스터 라벨을 이용해 산점도를 그립니다."
   ]
  },
  {
   "cell_type": "markdown",
   "metadata": {},
   "source": [
    "- cluster 4 에 속하는 고객 정보"
   ]
  },
  {
   "cell_type": "markdown",
   "metadata": {},
   "source": [
    "### 각 column의 분포를 시각화"
   ]
  }
 ],
 "metadata": {
  "colab": {
   "collapsed_sections": [],
   "name": "Perform Bank Customers Segmentation - Solution",
   "provenance": []
  },
  "kernelspec": {
   "display_name": "Python 3 (ipykernel)",
   "language": "python",
   "name": "python3"
  },
  "language_info": {
   "codemirror_mode": {
    "name": "ipython",
    "version": 3
   },
   "file_extension": ".py",
   "mimetype": "text/x-python",
   "name": "python",
   "nbconvert_exporter": "python",
   "pygments_lexer": "ipython3",
   "version": "3.9.16"
  }
 },
 "nbformat": 4,
 "nbformat_minor": 4
}
