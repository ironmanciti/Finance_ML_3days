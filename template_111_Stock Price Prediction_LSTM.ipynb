{
 "cells": [
  {
   "cell_type": "markdown",
   "id": "whole-religion",
   "metadata": {},
   "source": [
    "# LSTM을 이용한 주가 예측"
   ]
  },
  {
   "cell_type": "markdown",
   "id": "signed-temperature",
   "metadata": {},
   "source": [
    "- Apple 주식 가격 예측"
   ]
  },
  {
   "cell_type": "markdown",
   "id": "thorough-collectible",
   "metadata": {},
   "source": [
    "LSTM layer로 하려고 하는 것은 지난 window-size 일(즉, t-window에서 t-1까지)의 역사적 가격을 사용하여 시간 t의 가격을 예측하는 것입니다. 정확한 가격이 아닌 추세를 파악하기 위해 노력할 것임을 명심하십시오."
   ]
  },
  {
   "cell_type": "markdown",
   "id": "b02b2e7c",
   "metadata": {},
   "source": [
    "`len(df) - 100`일의 데이터로 모델을 학습시키고 다음 100일의 데이터로 테스트하는 방식으로 데이터를 분할합니다.\n",
    "### train/test split"
   ]
  },
  {
   "cell_type": "markdown",
   "id": "5e656200",
   "metadata": {},
   "source": [
    "- data normalization"
   ]
  },
  {
   "cell_type": "markdown",
   "id": "accomplished-phenomenon",
   "metadata": {},
   "source": [
    "** train data가 잘 만들어 졌는지 확인하는 Tip** \n",
    "\n",
    "- hist의 각 element는 window개 timestep의 list입니다. 1씩 증가하기 때문에 X_train의 **두 번째 element의 마지막 항목**은 target의 **첫 번째 element**와 같아야 합니다. 또한 **마지막 element의 마지막 항목**은 target의 마지막 2번째 element와 같아야 합니다.\n",
    "\n",
    "훈련 데이터의 i번째 원소의 마지막 값은 타깃 데이터의 (i-1)번째 값과 일치해야 합니다. 즉, X_train[i][-1] == y_train[i-1]이 성립해야 합니다. 이는 LSTM 모델이 'window' 개의 데이터를 바탕으로 그 다음 시점의 값을 예측하는 것이 목적이기 때문입니다.\n",
    "\n",
    "또한, 훈련 데이터의 마지막 원소의 마지막 값은 타깃 데이터의 뒤에서 두 번째 값과 일치해야 합니다. 즉, X_train[-1][-1] == y_train[-2]가 성립해야 합니다. 이는 훈련 데이터와 타깃 데이터의 시퀀스가 올바르게 끝까지 유지되었음을 확인하는 검증입니다."
   ]
  },
  {
   "cell_type": "markdown",
   "id": "working-diana",
   "metadata": {},
   "source": [
    "### model 생성 및 fitting"
   ]
  },
  {
   "cell_type": "markdown",
   "id": "ranging-incentive",
   "metadata": {},
   "source": [
    "앞으로 100일 동안의 주가 추이를 예측해 보도록 하겠습니다. 우리의 목표는 실제 가격이 아니라 추세를 예측하는 것임을 기억하십시오. 첫번째 예측을 위해 과거 window 일 수 만큼의 data 가 필요하므로 training data의 마지막 window 갯수 만큼을 concatenate 합니다."
   ]
  },
  {
   "cell_type": "markdown",
   "id": "7170a2b2",
   "metadata": {},
   "source": [
    "최근 일자 부분만 확대하여 시각화"
   ]
  },
  {
   "cell_type": "markdown",
   "id": "accompanied-walker",
   "metadata": {},
   "source": [
    "## 다양한 window_size tuning 을 하여 보다 정확한 예측 시도"
   ]
  }
 ],
 "metadata": {
  "kernelspec": {
   "display_name": "Python 3 (ipykernel)",
   "language": "python",
   "name": "python3"
  },
  "language_info": {
   "codemirror_mode": {
    "name": "ipython",
    "version": 3
   },
   "file_extension": ".py",
   "mimetype": "text/x-python",
   "name": "python",
   "nbconvert_exporter": "python",
   "pygments_lexer": "ipython3",
   "version": "3.9.16"
  }
 },
 "nbformat": 4,
 "nbformat_minor": 5
}
