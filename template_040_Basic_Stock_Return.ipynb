{
 "cells": [
  {
   "cell_type": "markdown",
   "metadata": {},
   "source": [
    "# Basics of Returns (수익률)\n",
    "\n",
    "- 가격(Prices)의 수익률(Returns) 변환\n",
    "\n",
    "- 수익률 계산 및 수익률 시퀀스를 복리화\n",
    "\n",
    "다양한 종류의 수익률이 있습니다. 아래에 주요 수익률들을 간단하게 정의하고 비교해 봅시다:\n",
    "\n",
    "| 수익률 종류 | 정의 | 계산 방법 | 사용 상황 |\n",
    "|:------:|:------:|:-------:|:------:|\n",
    "| 단순 수익률(Simple Returns) | 한 시점에서 다음 시점까지의 수익률 | (후 시점의 가격 - 전 시점의 가격) / 전 시점의 가격 | 단기 거래, 다양한 주식들의 일일 또는 단기 수익률을 비교할 때 주로 사용 |\n",
    "| 복리 수익률(Compound Returns) | 여러 시점에 걸친 수익률로, 이전 시점의 수익이 다음 시점의 수익 계산에 영향을 미침 | (최종값 / 초기값)^(1/n) – 1| 장기 투자에서 사용되며, 여러 기간 동안의 수익률을 계산할 때 사용 |\n",
    "| 누적 수익률(Cumulative Returns) | 투자의 시작부터 특정 시점까지의 전체 수익률 | 현재 자산/과거자산 - 1 | 투자의 총 성과를 평가하는 데 사용 |\n",
    "| 로그 수익률(Log Returns) | 연속 복리 수익률이라고도 하며, 단순 수익률의 로그 값을 사용 | ln(후 시점의 가격 / 전 시점의 가격) | 복리 효과를 가정하는 모델에서 사용하거나, 여러 시점의 수익률을 더할 때 사용 |\n",
    "\n",
    "이 표는 각 수익률의 기본적인 개념을 제공합니다. 실제 계산에서는 각 투자 상황에 따라 수익률 계산 방법이 달라질 수 있으므로 주의해야 합니다."
   ]
  },
  {
   "cell_type": "markdown",
   "metadata": {},
   "source": [
    "## 1. Simple Returns (단순 수익률)\n",
    "\n",
    "$t$ 시간에서 ${t+1}$ 시간까지의 Return은 다음과 같이 계산됩니다. 나중가격  / 이전가격 - 1\n",
    "\n",
    "$$ R_{t,t+1} = \\frac{P_{t+1}-P_{t}}{P_{t}} = \\frac{P_{t+1}}{P_{t}} - 1 $$\n"
   ]
  },
  {
   "cell_type": "markdown",
   "metadata": {},
   "source": [
    "일일 수익률은 단순 수익률의 일종"
   ]
  },
  {
   "cell_type": "markdown",
   "metadata": {},
   "source": [
    "주식 a의 일일 수익률"
   ]
  },
  {
   "cell_type": "markdown",
   "metadata": {},
   "source": [
    "이제 가격을 며칠 더 추가하고 두 번째 주식을 소개합니다. 이 두 주식을 \"BLUE\"와 \"ORANGE\"라고 부르고 Pandas DataFrame을 사용하여 다음과 같이 표시합니다."
   ]
  },
  {
   "cell_type": "markdown",
   "metadata": {},
   "source": [
    "- 일일 수익률 계산 \n",
    "$$ R_{t,t+1} = \\frac{P_{t+1}-P_{t}}{P_{t}} = \\frac{P_{t+1}}{P_{t}} - 1 $$"
   ]
  },
  {
   "cell_type": "markdown",
   "metadata": {},
   "source": [
    "위와 동일한 결과를  `.shift()` 메서드를 이용하여 쉽게 구할 수 있습니다.   "
   ]
  },
  {
   "cell_type": "markdown",
   "metadata": {},
   "source": [
    "- 일반적으로 가격에서 수익으로 이동할 때 하나의 데이터 포인트를 잃음  \n",
    "- DataFrame에는 한 행에서 다른 행으로의 백분율 변경을 계산하는 기본 제공 메서드가 있습니다. 이 방법을 사용하여 수익률을 위의 방법보다 더 쉽게 계산할 수 있습니다."
   ]
  },
  {
   "cell_type": "markdown",
   "metadata": {},
   "source": [
    "## 2. Compounding Returns (복리 수익률)\n",
    "\n",
    "- 이제 일련의 12개월 수익률이 있으므로 수익률이 `1+R` 형식이라고 부르는 성장률(Growth Rate)로 표현되는 한 개별 기간 수익률을 곱하여 복리 수익률을 산출할 수 있습니다.\n",
    "\n",
    "- CAGR(Compound Annual Growth Rate, 연평균 성장률, 연복리 수익률) 계산 공식  \n",
    "\n",
    "    방법 1. 매(일, 월)별 수익률로 계산\n",
    "        - 복리 수익률은 각 수익률에 1을 더한 다음 모두 곱하기만 하면 됩니다. 결과는 1+R 형식이므로 1을 빼야 합니다.  \n",
    "        $$CAGR = \\left( \\prod_{t=1}^{n} (1 + R_t) \\right) - 1$$  \n",
    "    방법 2.  시초 가격과 최종 가격, 투자 기간으로 계산\n",
    "    \n",
    "$$CAGR = \\left(\\frac{최종가치}{최초가치}\\right)^{\\frac{1}{n}} - 1$$\n",
    "\n",
    "\n",
    "두 시리즈의 복리 수익률을 계산해 보겠습니다."
   ]
  },
  {
   "cell_type": "markdown",
   "metadata": {},
   "source": [
    "방법 1로 복리 수익률 계산"
   ]
  },
  {
   "cell_type": "markdown",
   "metadata": {},
   "source": [
    "방법 2로 복리 수익률 계산\n",
    "\n",
    "두 방법의 결과가 동일함을 확인합니다."
   ]
  },
  {
   "cell_type": "markdown",
   "metadata": {},
   "source": [
    "## 3. Annualizing Returns (연간 수익률)\n",
    "\n",
    "일정 기간 동안의 수익률을 연간으로 계산하려면 1년의 기간만큼 수익률을 복리화합니다. \n",
    "\n",
    "월별 수익 $R_m$을 연간으로 환산하는 공식은 다음과 같습니다.\n",
    "\n",
    "$$ (1+R_m)^{12} - 1$$\n",
    "\n",
    "분기별 수익 $R_q$를 연간으로 환산하면 다음을 얻을 수 있습니다.\n",
    "\n",
    "$$ (1+R_q)^{4} - 1$$\n",
    "\n",
    "마지막으로 일일 수익 $R_d$를 연간으로 환산하면 다음을 얻을 수 있습니다.\n",
    "\n",
    "$$ (1+R_d)^{252} - 1$$\n",
    "\n",
    "예를 들어, 월별 1%, 분기별 4% 및 일일 수익률 0.01%를 연간화하려면 다음을 수행합니다."
   ]
  },
  {
   "cell_type": "markdown",
   "metadata": {},
   "source": [
    "## 4. 누적 수익률 (Cumulative Return)\n",
    "방법 1 : 매일(달)의 수익률로 계산  \n",
    "누적 수익률 = (1+당일 수익률) * (전일자 누적 수익률)  \n",
    "$$i_t = (1 + r_t) * i_{t-1}$$\n",
    "\n",
    "방법 2: 처음, 마지막 가격으로 계산  \n",
    "누적 수익률 = $\\left( \\frac{현재가격}{과거가격} \\right) - 1$"
   ]
  },
  {
   "cell_type": "markdown",
   "metadata": {},
   "source": [
    "- 누적 수익률은 단순 덧셈이 아닌 곱셉으로 계산  \n",
    " \n",
    "ex) 10000원이었던 주식이 첫째 달에 10% 상승하고 둘째 달에 20% 상승하게 된다면 누적 수익률은 30%가 아닌, 32%\n",
    "\n",
    "|기존|10,000원|0%|\n",
    "|-----|----|----|\n",
    "|첫째달|11,000원|10%상승|\n",
    "|둘째달|13,200원|20%상승|\n",
    "|누적수익률| |32%상승| \n",
    "\n",
    "$$(1+0.2)*(1+0.1)-1$$"
   ]
  },
  {
   "cell_type": "markdown",
   "metadata": {},
   "source": [
    "방법 1 :  (1+당일 수익률) * (전일자 누적 수익률)"
   ]
  },
  {
   "cell_type": "markdown",
   "metadata": {},
   "source": [
    "방법 2: (현재가격/과거가격) - 1"
   ]
  },
  {
   "cell_type": "markdown",
   "metadata": {},
   "source": [
    "## 5. Log Returns (로그 수익률)\n",
    "\n",
    "$$Log 수익률 = log⁡(나중가격/이전가격)  = log(나중가격) – log(이전가격)$$\n",
    "\n",
    "$$R_t = \\log{(P_{t+1}/P_t)} = \\log{P_{t+1}} - \\log{P_t}$$"
   ]
  },
  {
   "cell_type": "markdown",
   "metadata": {},
   "source": [
    "- 자산 가격의 변화 : 100 $\\rightarrow$ 130 $\\rightarrow$ 100"
   ]
  },
  {
   "cell_type": "markdown",
   "metadata": {},
   "source": [
    "- 일별 로그 수익률"
   ]
  },
  {
   "cell_type": "markdown",
   "metadata": {},
   "source": [
    "### 누적 로그 수익률\n",
    "- 로그 수익률은 cumsum() 사용  \n",
    "- 단순히 daily return 을 더하면 기간 전체의 복리로 계산된 누적 수익률이 계산됨"
   ]
  },
  {
   "cell_type": "markdown",
   "metadata": {},
   "source": [
    "- 누적 로그 수익률\n",
    "\n",
    "$$1 + r = \\log{\\frac{p_t}{p_0}}$$ \n",
    "\n",
    "- 로그 수익률: 복리로 반영  \n",
    "- 단순 수익률 : 단리로 반영"
   ]
  },
  {
   "cell_type": "markdown",
   "metadata": {},
   "source": [
    "## 연습 문제\n",
    "\n",
    "1) 1,000,000 원을 수익률 10%로 10년, 20년, 30년 투자할 때 원금+수익 금액은 ?"
   ]
  },
  {
   "cell_type": "markdown",
   "metadata": {},
   "source": [
    "2) 10,000 원을 10 년간 투자했는데 100,000 이 되었다. 누적 수익률과 CAGR 은  ?"
   ]
  },
  {
   "cell_type": "markdown",
   "metadata": {},
   "source": [
    "3) 애플 주식이 100불에서 10년 뒤 300 불이 되었다면 누적수익률과 CAGR 은 ?"
   ]
  },
  {
   "cell_type": "markdown",
   "metadata": {},
   "source": [
    "## 72의 법칙\n",
    "\n",
    "72의 법칙(\"Rule of 72\")은 복리 투자의 성장 시간을 대략적으로 추정하기 위한 수학적 방법입니다. 이 법칙은 원금이 복리로 얼마나 빨리 두 배로 늘어날지를 대략적으로 계산하는데 사용됩니다.  \n",
    "이 법칙은 다음과 같이 사용됩니다: 투자의 연간 복리 수익률을 72로 나누면, 그 결과는 투자금이 두 배가 되는데 필요한 대략적인 년수를 나타냅니다.  \n",
    "예를 들어, 연간 복리 이자율이 6%인 경우, 투자금이 두 배가 되는 데는 대략 12년(72 / 6)이 걸린다는 것을 알 수 있습니다.\n",
    "\n",
    "원금이 2 배가 되는데 걸리는 시간 = 72/CAGR  \n",
    "\n",
    "ex) 10_000 원을 CAGR 10% 로 운용하면 72/10 = 7.2 년 후 원금이 2 배가 된다."
   ]
  },
  {
   "cell_type": "markdown",
   "metadata": {},
   "source": [
    "CAGR 20% 인 경우 "
   ]
  },
  {
   "cell_type": "markdown",
   "metadata": {},
   "source": [
    "CAGR 30% 인 경우 "
   ]
  }
 ],
 "metadata": {
  "kernelspec": {
   "display_name": "Python 3 (ipykernel)",
   "language": "python",
   "name": "python3"
  },
  "language_info": {
   "codemirror_mode": {
    "name": "ipython",
    "version": 3
   },
   "file_extension": ".py",
   "mimetype": "text/x-python",
   "name": "python",
   "nbconvert_exporter": "python",
   "pygments_lexer": "ipython3",
   "version": "3.9.16"
  }
 },
 "nbformat": 4,
 "nbformat_minor": 4
}
